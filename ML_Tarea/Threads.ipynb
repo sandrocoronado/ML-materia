{
  "nbformat": 4,
  "nbformat_minor": 0,
  "metadata": {
    "colab": {
      "provenance": []
    },
    "kernelspec": {
      "name": "python3",
      "display_name": "Python 3"
    },
    "language_info": {
      "name": "python"
    }
  },
  "cells": [
    {
      "cell_type": "code",
      "execution_count": null,
      "metadata": {
        "id": "Ezldmdht9tWV"
      },
      "outputs": [],
      "source": [
        "import pandas as pd\n",
        "import numpy as np\n",
        "from tqdm import tqdm\n",
        "from keras.preprocessing.text import Tokenizer\n",
        "tqdm.pandas(desc=\"progress-bar\")\n",
        "from gensim.models import Doc2Vec\n",
        "from sklearn import utils\n",
        "from sklearn.model_selection import train_test_split\n",
        "from keras.preprocessing.sequence import pad_sequences\n",
        "import gensim\n",
        "from sklearn.linear_model import LogisticRegression\n",
        "from gensim.models.doc2vec import TaggedDocument\n",
        "import re\n",
        "import seaborn as sns\n",
        "import matplotlib.pyplot as plt"
      ]
    },
    {
      "cell_type": "code",
      "source": [
        "# Lee un archivo CSV en un DataFrame\n",
        "df = pd.read_csv('datos.csv')\n",
        "\n",
        "# Muestra las primeras filas del DataFrame\n",
        "df.head()"
      ],
      "metadata": {
        "id": "KwfvbN90AnLT",
        "colab": {
          "base_uri": "https://localhost:8080/",
          "height": 206
        },
        "outputId": "008dcbfc-cd07-422f-a4bf-83e2b12213e0"
      },
      "execution_count": null,
      "outputs": [
        {
          "output_type": "execute_result",
          "data": {
            "text/plain": [
              "   Unnamed: 0                Nombres                Fecha  \\\n",
              "0           0         Samara Almanza   9 de julio de 2023   \n",
              "1           1             WolfBanner  10 de julio de 2023   \n",
              "2           2  Isabella Leal la rosa  29 de julio de 2023   \n",
              "3           3           Rainer Gomez   7 de julio de 2023   \n",
              "4           4           Javier Lerma  18 de julio de 2023   \n",
              "\n",
              "                                          Comentario  \\\n",
              "0  La app está linda, pero muy simple, le falta v...   \n",
              "1  Puntos Negativos (a grandes rasgos): crashea a...   \n",
              "2  Estaba leyendo muchas de las reseñas, muchas d...   \n",
              "3  Es una app bastante interesante, pero hasta el...   \n",
              "4  La aplicación es demasiado simple, no es atrac...   \n",
              "\n",
              "                                Valoracion_Personas  Etiqueta  \n",
              "0   639 personas han valorado esta reseña como útil  negativo  \n",
              "1  3022 personas han valorado esta reseña como útil  negativo  \n",
              "2  2075 personas han valorado esta reseña como útil   neutral  \n",
              "3  2000 personas han valorado esta reseña como útil  negativo  \n",
              "4  1455 personas han valorado esta reseña como útil  negativo  "
            ],
            "text/html": [
              "\n",
              "  <div id=\"df-a2f2836d-9b5d-412f-b2fe-596c520a5edc\" class=\"colab-df-container\">\n",
              "    <div>\n",
              "<style scoped>\n",
              "    .dataframe tbody tr th:only-of-type {\n",
              "        vertical-align: middle;\n",
              "    }\n",
              "\n",
              "    .dataframe tbody tr th {\n",
              "        vertical-align: top;\n",
              "    }\n",
              "\n",
              "    .dataframe thead th {\n",
              "        text-align: right;\n",
              "    }\n",
              "</style>\n",
              "<table border=\"1\" class=\"dataframe\">\n",
              "  <thead>\n",
              "    <tr style=\"text-align: right;\">\n",
              "      <th></th>\n",
              "      <th>Unnamed: 0</th>\n",
              "      <th>Nombres</th>\n",
              "      <th>Fecha</th>\n",
              "      <th>Comentario</th>\n",
              "      <th>Valoracion_Personas</th>\n",
              "      <th>Etiqueta</th>\n",
              "    </tr>\n",
              "  </thead>\n",
              "  <tbody>\n",
              "    <tr>\n",
              "      <th>0</th>\n",
              "      <td>0</td>\n",
              "      <td>Samara Almanza</td>\n",
              "      <td>9 de julio de 2023</td>\n",
              "      <td>La app está linda, pero muy simple, le falta v...</td>\n",
              "      <td>639 personas han valorado esta reseña como útil</td>\n",
              "      <td>negativo</td>\n",
              "    </tr>\n",
              "    <tr>\n",
              "      <th>1</th>\n",
              "      <td>1</td>\n",
              "      <td>WolfBanner</td>\n",
              "      <td>10 de julio de 2023</td>\n",
              "      <td>Puntos Negativos (a grandes rasgos): crashea a...</td>\n",
              "      <td>3022 personas han valorado esta reseña como útil</td>\n",
              "      <td>negativo</td>\n",
              "    </tr>\n",
              "    <tr>\n",
              "      <th>2</th>\n",
              "      <td>2</td>\n",
              "      <td>Isabella Leal la rosa</td>\n",
              "      <td>29 de julio de 2023</td>\n",
              "      <td>Estaba leyendo muchas de las reseñas, muchas d...</td>\n",
              "      <td>2075 personas han valorado esta reseña como útil</td>\n",
              "      <td>neutral</td>\n",
              "    </tr>\n",
              "    <tr>\n",
              "      <th>3</th>\n",
              "      <td>3</td>\n",
              "      <td>Rainer Gomez</td>\n",
              "      <td>7 de julio de 2023</td>\n",
              "      <td>Es una app bastante interesante, pero hasta el...</td>\n",
              "      <td>2000 personas han valorado esta reseña como útil</td>\n",
              "      <td>negativo</td>\n",
              "    </tr>\n",
              "    <tr>\n",
              "      <th>4</th>\n",
              "      <td>4</td>\n",
              "      <td>Javier Lerma</td>\n",
              "      <td>18 de julio de 2023</td>\n",
              "      <td>La aplicación es demasiado simple, no es atrac...</td>\n",
              "      <td>1455 personas han valorado esta reseña como útil</td>\n",
              "      <td>negativo</td>\n",
              "    </tr>\n",
              "  </tbody>\n",
              "</table>\n",
              "</div>\n",
              "    <div class=\"colab-df-buttons\">\n",
              "\n",
              "  <div class=\"colab-df-container\">\n",
              "    <button class=\"colab-df-convert\" onclick=\"convertToInteractive('df-a2f2836d-9b5d-412f-b2fe-596c520a5edc')\"\n",
              "            title=\"Convert this dataframe to an interactive table.\"\n",
              "            style=\"display:none;\">\n",
              "\n",
              "  <svg xmlns=\"http://www.w3.org/2000/svg\" height=\"24px\" viewBox=\"0 -960 960 960\">\n",
              "    <path d=\"M120-120v-720h720v720H120Zm60-500h600v-160H180v160Zm220 220h160v-160H400v160Zm0 220h160v-160H400v160ZM180-400h160v-160H180v160Zm440 0h160v-160H620v160ZM180-180h160v-160H180v160Zm440 0h160v-160H620v160Z\"/>\n",
              "  </svg>\n",
              "    </button>\n",
              "\n",
              "  <style>\n",
              "    .colab-df-container {\n",
              "      display:flex;\n",
              "      gap: 12px;\n",
              "    }\n",
              "\n",
              "    .colab-df-convert {\n",
              "      background-color: #E8F0FE;\n",
              "      border: none;\n",
              "      border-radius: 50%;\n",
              "      cursor: pointer;\n",
              "      display: none;\n",
              "      fill: #1967D2;\n",
              "      height: 32px;\n",
              "      padding: 0 0 0 0;\n",
              "      width: 32px;\n",
              "    }\n",
              "\n",
              "    .colab-df-convert:hover {\n",
              "      background-color: #E2EBFA;\n",
              "      box-shadow: 0px 1px 2px rgba(60, 64, 67, 0.3), 0px 1px 3px 1px rgba(60, 64, 67, 0.15);\n",
              "      fill: #174EA6;\n",
              "    }\n",
              "\n",
              "    .colab-df-buttons div {\n",
              "      margin-bottom: 4px;\n",
              "    }\n",
              "\n",
              "    [theme=dark] .colab-df-convert {\n",
              "      background-color: #3B4455;\n",
              "      fill: #D2E3FC;\n",
              "    }\n",
              "\n",
              "    [theme=dark] .colab-df-convert:hover {\n",
              "      background-color: #434B5C;\n",
              "      box-shadow: 0px 1px 3px 1px rgba(0, 0, 0, 0.15);\n",
              "      filter: drop-shadow(0px 1px 2px rgba(0, 0, 0, 0.3));\n",
              "      fill: #FFFFFF;\n",
              "    }\n",
              "  </style>\n",
              "\n",
              "    <script>\n",
              "      const buttonEl =\n",
              "        document.querySelector('#df-a2f2836d-9b5d-412f-b2fe-596c520a5edc button.colab-df-convert');\n",
              "      buttonEl.style.display =\n",
              "        google.colab.kernel.accessAllowed ? 'block' : 'none';\n",
              "\n",
              "      async function convertToInteractive(key) {\n",
              "        const element = document.querySelector('#df-a2f2836d-9b5d-412f-b2fe-596c520a5edc');\n",
              "        const dataTable =\n",
              "          await google.colab.kernel.invokeFunction('convertToInteractive',\n",
              "                                                    [key], {});\n",
              "        if (!dataTable) return;\n",
              "\n",
              "        const docLinkHtml = 'Like what you see? Visit the ' +\n",
              "          '<a target=\"_blank\" href=https://colab.research.google.com/notebooks/data_table.ipynb>data table notebook</a>'\n",
              "          + ' to learn more about interactive tables.';\n",
              "        element.innerHTML = '';\n",
              "        dataTable['output_type'] = 'display_data';\n",
              "        await google.colab.output.renderOutput(dataTable, element);\n",
              "        const docLink = document.createElement('div');\n",
              "        docLink.innerHTML = docLinkHtml;\n",
              "        element.appendChild(docLink);\n",
              "      }\n",
              "    </script>\n",
              "  </div>\n",
              "\n",
              "\n",
              "<div id=\"df-d6578209-7f18-4c55-b38b-b50ff788a15e\">\n",
              "  <button class=\"colab-df-quickchart\" onclick=\"quickchart('df-d6578209-7f18-4c55-b38b-b50ff788a15e')\"\n",
              "            title=\"Suggest charts.\"\n",
              "            style=\"display:none;\">\n",
              "\n",
              "<svg xmlns=\"http://www.w3.org/2000/svg\" height=\"24px\"viewBox=\"0 0 24 24\"\n",
              "     width=\"24px\">\n",
              "    <g>\n",
              "        <path d=\"M19 3H5c-1.1 0-2 .9-2 2v14c0 1.1.9 2 2 2h14c1.1 0 2-.9 2-2V5c0-1.1-.9-2-2-2zM9 17H7v-7h2v7zm4 0h-2V7h2v10zm4 0h-2v-4h2v4z\"/>\n",
              "    </g>\n",
              "</svg>\n",
              "  </button>\n",
              "\n",
              "<style>\n",
              "  .colab-df-quickchart {\n",
              "      --bg-color: #E8F0FE;\n",
              "      --fill-color: #1967D2;\n",
              "      --hover-bg-color: #E2EBFA;\n",
              "      --hover-fill-color: #174EA6;\n",
              "      --disabled-fill-color: #AAA;\n",
              "      --disabled-bg-color: #DDD;\n",
              "  }\n",
              "\n",
              "  [theme=dark] .colab-df-quickchart {\n",
              "      --bg-color: #3B4455;\n",
              "      --fill-color: #D2E3FC;\n",
              "      --hover-bg-color: #434B5C;\n",
              "      --hover-fill-color: #FFFFFF;\n",
              "      --disabled-bg-color: #3B4455;\n",
              "      --disabled-fill-color: #666;\n",
              "  }\n",
              "\n",
              "  .colab-df-quickchart {\n",
              "    background-color: var(--bg-color);\n",
              "    border: none;\n",
              "    border-radius: 50%;\n",
              "    cursor: pointer;\n",
              "    display: none;\n",
              "    fill: var(--fill-color);\n",
              "    height: 32px;\n",
              "    padding: 0;\n",
              "    width: 32px;\n",
              "  }\n",
              "\n",
              "  .colab-df-quickchart:hover {\n",
              "    background-color: var(--hover-bg-color);\n",
              "    box-shadow: 0 1px 2px rgba(60, 64, 67, 0.3), 0 1px 3px 1px rgba(60, 64, 67, 0.15);\n",
              "    fill: var(--button-hover-fill-color);\n",
              "  }\n",
              "\n",
              "  .colab-df-quickchart-complete:disabled,\n",
              "  .colab-df-quickchart-complete:disabled:hover {\n",
              "    background-color: var(--disabled-bg-color);\n",
              "    fill: var(--disabled-fill-color);\n",
              "    box-shadow: none;\n",
              "  }\n",
              "\n",
              "  .colab-df-spinner {\n",
              "    border: 2px solid var(--fill-color);\n",
              "    border-color: transparent;\n",
              "    border-bottom-color: var(--fill-color);\n",
              "    animation:\n",
              "      spin 1s steps(1) infinite;\n",
              "  }\n",
              "\n",
              "  @keyframes spin {\n",
              "    0% {\n",
              "      border-color: transparent;\n",
              "      border-bottom-color: var(--fill-color);\n",
              "      border-left-color: var(--fill-color);\n",
              "    }\n",
              "    20% {\n",
              "      border-color: transparent;\n",
              "      border-left-color: var(--fill-color);\n",
              "      border-top-color: var(--fill-color);\n",
              "    }\n",
              "    30% {\n",
              "      border-color: transparent;\n",
              "      border-left-color: var(--fill-color);\n",
              "      border-top-color: var(--fill-color);\n",
              "      border-right-color: var(--fill-color);\n",
              "    }\n",
              "    40% {\n",
              "      border-color: transparent;\n",
              "      border-right-color: var(--fill-color);\n",
              "      border-top-color: var(--fill-color);\n",
              "    }\n",
              "    60% {\n",
              "      border-color: transparent;\n",
              "      border-right-color: var(--fill-color);\n",
              "    }\n",
              "    80% {\n",
              "      border-color: transparent;\n",
              "      border-right-color: var(--fill-color);\n",
              "      border-bottom-color: var(--fill-color);\n",
              "    }\n",
              "    90% {\n",
              "      border-color: transparent;\n",
              "      border-bottom-color: var(--fill-color);\n",
              "    }\n",
              "  }\n",
              "</style>\n",
              "\n",
              "  <script>\n",
              "    async function quickchart(key) {\n",
              "      const quickchartButtonEl =\n",
              "        document.querySelector('#' + key + ' button');\n",
              "      quickchartButtonEl.disabled = true;  // To prevent multiple clicks.\n",
              "      quickchartButtonEl.classList.add('colab-df-spinner');\n",
              "      try {\n",
              "        const charts = await google.colab.kernel.invokeFunction(\n",
              "            'suggestCharts', [key], {});\n",
              "      } catch (error) {\n",
              "        console.error('Error during call to suggestCharts:', error);\n",
              "      }\n",
              "      quickchartButtonEl.classList.remove('colab-df-spinner');\n",
              "      quickchartButtonEl.classList.add('colab-df-quickchart-complete');\n",
              "    }\n",
              "    (() => {\n",
              "      let quickchartButtonEl =\n",
              "        document.querySelector('#df-d6578209-7f18-4c55-b38b-b50ff788a15e button');\n",
              "      quickchartButtonEl.style.display =\n",
              "        google.colab.kernel.accessAllowed ? 'block' : 'none';\n",
              "    })();\n",
              "  </script>\n",
              "</div>\n",
              "    </div>\n",
              "  </div>\n"
            ]
          },
          "metadata": {},
          "execution_count": 2
        }
      ]
    },
    {
      "cell_type": "code",
      "source": [
        "df.shape"
      ],
      "metadata": {
        "id": "r8z5JD5598G8",
        "colab": {
          "base_uri": "https://localhost:8080/"
        },
        "outputId": "c234ce60-9a44-455d-929c-221c4918ee3c"
      },
      "execution_count": null,
      "outputs": [
        {
          "output_type": "execute_result",
          "data": {
            "text/plain": [
              "(1480, 6)"
            ]
          },
          "metadata": {},
          "execution_count": 3
        }
      ]
    },
    {
      "cell_type": "code",
      "source": [
        "df=df.rename(columns={\"Etiqueta\":\"Sentimiento\"})"
      ],
      "metadata": {
        "id": "5HRE-N5f6jIF"
      },
      "execution_count": null,
      "outputs": []
    },
    {
      "cell_type": "code",
      "source": [
        "df.index = range(1480)\n",
        "df['Comentario'].apply(lambda x: len(x.split(' '))).sum()"
      ],
      "metadata": {
        "id": "nvKvfqOm98Ko",
        "colab": {
          "base_uri": "https://localhost:8080/"
        },
        "outputId": "ef4ecc4d-f758-492a-e1eb-2349de6e09f1"
      },
      "execution_count": null,
      "outputs": [
        {
          "output_type": "execute_result",
          "data": {
            "text/plain": [
              "47114"
            ]
          },
          "metadata": {},
          "execution_count": 5
        }
      ]
    },
    {
      "cell_type": "code",
      "source": [
        "# visualizing data"
      ],
      "metadata": {
        "id": "cLhrk9M298NM"
      },
      "execution_count": null,
      "outputs": []
    },
    {
      "cell_type": "code",
      "source": [
        "import matplotlib.pyplot as plt\n",
        "import seaborn as sns\n",
        "\n",
        "# Obtén el recuento de cada categoría de sentimiento\n",
        "\n",
        "cnt_pro = df['Sentimiento'].value_counts()\n",
        "\n",
        "# Crea el gráfico de barras\n",
        "plt.figure(figsize=(12, 4))\n",
        "sns.barplot(x=cnt_pro.index, y=cnt_pro.values, alpha=0.8)\n",
        "\n",
        "# Configura etiquetas y título\n",
        "plt.ylabel('Número de Ocurrencias', fontsize=12)\n",
        "plt.xlabel('Sentimiento', fontsize=12)\n",
        "plt.title('Distribución de Sentimientos', fontsize=15)\n",
        "\n",
        "# Rotación de etiquetas en el eje x para mayor legibilidad\n",
        "plt.xticks(rotation=0)  # Puedes ajustar el ángulo de rotación según tu preferencia\n",
        "\n",
        "# Muestra el gráfico\n",
        "plt.show()\n"
      ],
      "metadata": {
        "id": "GvRhTZc_98Sr",
        "colab": {
          "base_uri": "https://localhost:8080/",
          "height": 416
        },
        "outputId": "be52f6d0-e325-4129-d37d-4b652bd7d759"
      },
      "execution_count": null,
      "outputs": [
        {
          "output_type": "display_data",
          "data": {
            "text/plain": [
              "<Figure size 1200x400 with 1 Axes>"
            ],
            "image/png": "[encoded data removed]"
          },
          "metadata": {}
        }
      ]
    },
    {
      "cell_type": "code",
      "source": [
        "#Convert sting to numeric\n",
        "sentiment  = {'positivo': 0,'neutral': 1,'negativo':2}\n",
        "\n",
        "df.Sentimiento = [sentiment[item] for item in df.Sentimiento]\n",
        "print(df)"
      ],
      "metadata": {
        "id": "JfMI89xv98Vw",
        "colab": {
          "base_uri": "https://localhost:8080/"
        },
        "outputId": "cdffb22b-d953-4ee3-c1e4-420c26a07a13"
      },
      "execution_count": null,
      "outputs": [
        {
          "output_type": "stream",
          "name": "stdout",
          "text": [
            "      Unnamed: 0                Nombres                Fecha  \\\n",
            "0              0         Samara Almanza   9 de julio de 2023   \n",
            "1              1             WolfBanner  10 de julio de 2023   \n",
            "2              2  Isabella Leal la rosa  29 de julio de 2023   \n",
            "3              3           Rainer Gomez   7 de julio de 2023   \n",
            "4              4           Javier Lerma  18 de julio de 2023   \n",
            "...          ...                    ...                  ...   \n",
            "1475        1475     TvFoxPlay TvGratis  3 de agosto de 2023   \n",
            "1476        1476            Camila Diaz   7 de julio de 2023   \n",
            "1477        1477          lian martinez   7 de julio de 2023   \n",
            "1478        1478          Armando Grado   6 de julio de 2023   \n",
            "1479        1479        Matias Orbegozo   8 de julio de 2023   \n",
            "\n",
            "                                             Comentario  \\\n",
            "0     La app está linda, pero muy simple, le falta v...   \n",
            "1     Puntos Negativos (a grandes rasgos): crashea a...   \n",
            "2     Estaba leyendo muchas de las reseñas, muchas d...   \n",
            "3     Es una app bastante interesante, pero hasta el...   \n",
            "4     La aplicación es demasiado simple, no es atrac...   \n",
            "...                                                 ...   \n",
            "1475  Pongan una opción para traducir lo que publica...   \n",
            "1476    Se traba y duplica la interfaz. No puedo usarla   \n",
            "1477  Ya la he instalado y desinstalado 2 veces porq...   \n",
            "1478  La aplicación es buena solo que nomás te sigue...   \n",
            "1479  Esta buena la app pero le faltan muchas opcion...   \n",
            "\n",
            "                                   Valoracion_Personas  Sentimiento  \n",
            "0      639 personas han valorado esta reseña como útil            2  \n",
            "1     3022 personas han valorado esta reseña como útil            2  \n",
            "2     2075 personas han valorado esta reseña como útil            1  \n",
            "3     2000 personas han valorado esta reseña como útil            2  \n",
            "4     1455 personas han valorado esta reseña como útil            2  \n",
            "...                                                ...          ...  \n",
            "1475                                               NaN            2  \n",
            "1476                                               NaN            2  \n",
            "1477       1 persona ha valorado esta reseña como útil            2  \n",
            "1478                                               NaN            1  \n",
            "1479                                               NaN            2  \n",
            "\n",
            "[1480 rows x 6 columns]\n"
          ]
        }
      ]
    },
    {
      "cell_type": "code",
      "source": [
        "def print_message(index):\n",
        "    example = df[df.index == index][['Comentario', 'Sentimiento']].values[0]\n",
        "    if len(example) > 0:\n",
        "        print(example[0])\n",
        "        print('Message:', example[1])\n",
        "print_message(12)"
      ],
      "metadata": {
        "id": "6cck_cNR98Zd",
        "colab": {
          "base_uri": "https://localhost:8080/"
        },
        "outputId": "d4d5cada-9c62-4ea5-bcd6-830ddcb9bbfc"
      },
      "execution_count": null,
      "outputs": [
        {
          "output_type": "stream",
          "name": "stdout",
          "text": [
            "threads le podría faltar algunas cosas, Pero entre ellas, Una podría ser de una manera divertida, La fuente de color, Una fuente de colores ( letras) pues por la diversión pero personalmente si está bien la versión actual, Traducción, privacidad y algunas cosas como entretenimiento\n",
            "Message: 2\n"
          ]
        }
      ]
    },
    {
      "cell_type": "code",
      "source": [
        "print_message(0)"
      ],
      "metadata": {
        "id": "R4m-j40898cc",
        "colab": {
          "base_uri": "https://localhost:8080/"
        },
        "outputId": "c18baa56-3313-4a52-acb1-0e859a386443"
      },
      "execution_count": null,
      "outputs": [
        {
          "output_type": "stream",
          "name": "stdout",
          "text": [
            "La app está linda, pero muy simple, le falta varias cosas: Editar los hilos, guardar y ver los hilos a los que das me gusta, tener la opción de ver los temas en tendencia, descargar los vídeos e imágenes, guardar los hilos que te gusten, tener la opción de agregar gifs e imágenes que no necesariamente estén guardados en tu memoria, agregar música, tener la opción de que te salgan solo los hilos de gente que sigas. Por el momento la app está bien pero a veces tarda mucho en cargar.\n",
            "Message: 2\n"
          ]
        }
      ]
    },
    {
      "cell_type": "code",
      "source": [
        "from bs4 import BeautifulSoup\n",
        "def cleanText(text):\n",
        "    text = BeautifulSoup(text, \"lxml\").text\n",
        "    text = re.sub(r'\\|\\|\\|', r' ', text)\n",
        "    text = re.sub(r'http\\S+', r'<URL>', text)\n",
        "    text = text.lower()\n",
        "    text = text.replace('x', '')\n",
        "    return text\n",
        "df['Comentario'] = df['Comentario'].apply(cleanText)"
      ],
      "metadata": {
        "id": "hR50xWIo98fY",
        "colab": {
          "base_uri": "https://localhost:8080/"
        },
        "outputId": "41f05db3-31a5-4b13-937d-71612ce220d6"
      },
      "execution_count": null,
      "outputs": [
        {
          "output_type": "stream",
          "name": "stderr",
          "text": [
            "<ipython-input-11-c73b51812e08>:3: MarkupResemblesLocatorWarning: The input looks more like a filename than markup. You may want to open this file and pass the filehandle into Beautiful Soup.\n",
            "  text = BeautifulSoup(text, \"lxml\").text\n"
          ]
        }
      ]
    },
    {
      "cell_type": "code",
      "source": [
        "import nltk\n",
        "nltk.download('punkt')\n",
        "from nltk.tokenize import word_tokenize\n"
      ],
      "metadata": {
        "colab": {
          "base_uri": "https://localhost:8080/"
        },
        "id": "yCNkV0pBQ-1W",
        "outputId": "2c05fc2b-1fc6-4d5a-f47c-616891abc366"
      },
      "execution_count": null,
      "outputs": [
        {
          "output_type": "stream",
          "name": "stderr",
          "text": [
            "[nltk_data] Downloading package punkt to /root/nltk_data...\n",
            "[nltk_data]   Package punkt is already up-to-date!\n"
          ]
        }
      ]
    },
    {
      "cell_type": "code",
      "source": [
        "df['Comentario'] = df['Comentario'].apply(cleanText)\n",
        "train, test = train_test_split(df, test_size=0.000001 , random_state=42)\n",
        "import nltk\n",
        "from nltk.corpus import stopwords\n",
        "def tokenize_text(text):\n",
        "    tokens = []\n",
        "    for sent in nltk.sent_tokenize(text):\n",
        "        for word in nltk.word_tokenize(sent):\n",
        "            #if len(word) < 0:\n",
        "            if len(word) <= 0:\n",
        "                continue\n",
        "            tokens.append(word.lower())\n",
        "    return tokens\n",
        "train_tagged = train.apply(\n",
        "    lambda r: TaggedDocument(words=tokenize_text(r['Comentario']), tags=[r.Sentimiento]), axis=1)\n",
        "test_tagged = test.apply(\n",
        "    lambda r: TaggedDocument(words=tokenize_text(r['Comentario']), tags=[r.Sentimiento]), axis=1)\n",
        "\n",
        "# The maximum number of words to be used. (most frequent)\n",
        "max_fatures = 500000\n",
        "\n",
        "# Max number of words in each complaint.\n",
        "MAX_SEQUENCE_LENGTH = 50\n",
        "\n",
        "#tokenizer = Tokenizer(num_words=max_fatures, split=' ')\n",
        "tokenizer = Tokenizer(num_words=max_fatures, split=' ', filters='!\"#$%&()*+,-./:;<=>?@[\\]^_`{|}~', lower=True)\n",
        "tokenizer.fit_on_texts(df['Comentario'].values)\n",
        "X = tokenizer.texts_to_sequences(df['Comentario'].values)\n",
        "X = pad_sequences(X)\n",
        "print('Found %s unique tokens.' % len(X))"
      ],
      "metadata": {
        "id": "drYHF4x6_QUU",
        "colab": {
          "base_uri": "https://localhost:8080/"
        },
        "outputId": "3d385b4e-edc1-4437-8b33-7b45b696d0be"
      },
      "execution_count": null,
      "outputs": [
        {
          "output_type": "stream",
          "name": "stderr",
          "text": [
            "<ipython-input-11-c73b51812e08>:3: MarkupResemblesLocatorWarning: The input looks more like a filename than markup. You may want to open this file and pass the filehandle into Beautiful Soup.\n",
            "  text = BeautifulSoup(text, \"lxml\").text\n"
          ]
        },
        {
          "output_type": "stream",
          "name": "stdout",
          "text": [
            "Found 1480 unique tokens.\n"
          ]
        }
      ]
    },
    {
      "cell_type": "code",
      "source": [
        "X"
      ],
      "metadata": {
        "colab": {
          "base_uri": "https://localhost:8080/"
        },
        "id": "r9HqCTZF8aWl",
        "outputId": "14c22714-8b29-4880-8c97-22b0163d6fb4"
      },
      "execution_count": null,
      "outputs": [
        {
          "output_type": "execute_result",
          "data": {
            "text/plain": [
              "array([[   0,    0,    0, ...,   52,   10,  320],\n",
              "       [   0,    0,    0, ..., 2125,  126,  512],\n",
              "       [   0,    0,    0, ...,   12, 2130, 1473],\n",
              "       ...,\n",
              "       [   0,    0,    0, ...,  139,    3,  109],\n",
              "       [   0,    0,    0, ...,   11,   87,  718],\n",
              "       [   0,    0,    0, ...,   58,   61,  474]], dtype=int32)"
            ]
          },
          "metadata": {},
          "execution_count": 14
        }
      ]
    },
    {
      "cell_type": "code",
      "source": [
        "X = tokenizer.texts_to_sequences(df['Comentario'].values)\n",
        "X = pad_sequences(X, maxlen=MAX_SEQUENCE_LENGTH)\n",
        "print('Shape of data tensor:', X.shape)"
      ],
      "metadata": {
        "id": "vVMi2VpM_QXN",
        "colab": {
          "base_uri": "https://localhost:8080/"
        },
        "outputId": "7bc7da88-3a3f-4470-d0fd-65c659c2c316"
      },
      "execution_count": null,
      "outputs": [
        {
          "output_type": "stream",
          "name": "stdout",
          "text": [
            "Shape of data tensor: (1480, 50)\n"
          ]
        }
      ]
    },
    {
      "cell_type": "code",
      "source": [
        "#train_tagged.values[2173]\n",
        "train_tagged.values"
      ],
      "metadata": {
        "id": "Q9eYYHeZ_QZ0",
        "colab": {
          "base_uri": "https://localhost:8080/"
        },
        "outputId": "90af2865-c465-47a5-ee92-abe01d5926e1"
      },
      "execution_count": null,
      "outputs": [
        {
          "output_type": "execute_result",
          "data": {
            "text/plain": [
              "array([TaggedDocument(words=['1', 'estrella', 'por', 'la', 'abusiva', 'cantidad', 'de', 'información', 'privada', 'que', 'solicita', 'al', 'usuario', 'como', 'lo', 'son', '``', 'salud', ',', 'información', 'financiera', ',', 'contactos', ',', 'historial', 'de', 'navegación', ',', 'uso', 'de', 'datos', 'móviles', ',', 'diagnóstico', ',', 'compras', ',', 'ubicación', ',', 'búsquedas', ',', 'identificadores', ',', 'información', 'sensible', ',', 'contenido', 'de', 'los', 'usuarios', 'que', 'sigues', 'y', 'otros', 'no', 'especificados', '.', \"''\", '-y', 'muy', 'mal', 'porque', 'si', 'decidimos', 'eliminar', 'nuestra', 'cuenta', '``', 'threads', \"''\", 'estaríamos', 'eliminando', 'nuestra', 'la', 'cuenta', 'principal', 'de', 'instagram', '.', '-contenido', 'repetitivo', '.'], tags=[2]),\n",
              "       TaggedDocument(words=['se', 'cierra', 'la', 'aplicación', 'inesperadamente', 'cuando', 'estoy', 'escribiendo', ',', 'ya', 'la', 'desinstale', 'y', 'volví', 'a', 'instalar', 'y', 'es', 'lo', 'mismo', ',', 'tengo', 'android', '.', 'solo', 'me', 'pasa', 'con', 'esta', 'aplicación', '.'], tags=[2]),\n",
              "       TaggedDocument(words=['horrible', ',', 'solo', 'quiero', 'ver', 'en', 'mi', 'feed', 'a', 'las', 'personas', 'que', 'sigo', 'y', 'no', 'a', 'otras', 'cuentas', ',', 'al', 'subir', 'una', 'foto', 'no', 'permite', 'editar', ',', 'cada', 'que', 'cambio', 'mi', 'contraseña', 'de', 'ig', 'no', 'me', 'deja', 'entrar', 'a', 'threads', 'ni', 'me', 'sale', 'para', 'inicial', 'sesión', ',', 'siempre', 'tengo', 'que', 'desinstatar', 'e', 'instalar', 'para', 'poder', 'ingresar'], tags=[2]),\n",
              "       ...,\n",
              "       TaggedDocument(words=['me', 'gusta', 'que', 'puedo', 'seguir', 'las', 'cuentas', 'que', 'me', 'interesan', ',', 'pero', 'no', 'puedo', 'publicar', 'ni', 'compartir', 'de', 'instagram', 'porque', 'no', 'aparece', 'la', 'opcion', 'de', 'publicar', 'en', 'mi', 'perfil', '.'], tags=[2]),\n",
              "       TaggedDocument(words=['no', 'me', 'gusta', 'por', 'que', 'no', 'se', 'puede', 'poner', 'privado', 'hola', 'no', 'me', 'sale', 'el', '@', 'los', 'números', 'en', 'en', 'isntagram'], tags=[2]),\n",
              "       TaggedDocument(words=['muy', 'buena', 'aplicación', '.', 'gracias', 'a', 'dios', ',', 'de', 'momento', ',', 'no', 'hay', 'tantos', '``', 'heaters', \"''\", 'como', 'en', 'otras', 'redes', 'sociales', '.', 'felicitaciones', 'a', 'los', 'desarrolladores', '.'], tags=[0])],\n",
              "      dtype=object)"
            ]
          },
          "metadata": {},
          "execution_count": 16
        }
      ]
    },
    {
      "cell_type": "code",
      "source": [
        "d2v_model = Doc2Vec(dm=1, dm_mean=1, vector_size=20, window=8, min_count=1, workers=1, alpha=0.065, min_alpha=0.065)\n",
        "d2v_model.build_vocab([x for x in tqdm(train_tagged.values)])\n"
      ],
      "metadata": {
        "colab": {
          "base_uri": "https://localhost:8080/"
        },
        "id": "ueJGKSnXS6Fw",
        "outputId": "ca1b33cd-a3ae-408e-c1db-df8a6ef23774"
      },
      "execution_count": null,
      "outputs": [
        {
          "output_type": "stream",
          "name": "stderr",
          "text": [
            "100%|██████████| 1479/1479 [00:00<00:00, 1336934.40it/s]\n"
          ]
        }
      ]
    },
    {
      "cell_type": "code",
      "source": [
        "%%time\n",
        "for epoch in range(30):\n",
        "    d2v_model.train(utils.shuffle([x for x in tqdm(train_tagged.values)]), total_examples=len(train_tagged.values), epochs=1)\n",
        "    d2v_model.alpha -= 0.002\n",
        "    d2v_model.min_alpha = d2v_model.alpha"
      ],
      "metadata": {
        "id": "pBCgjT-c_QfF",
        "colab": {
          "base_uri": "https://localhost:8080/"
        },
        "outputId": "563e8c01-19d8-4535-cdde-0fab07a55751"
      },
      "execution_count": null,
      "outputs": [
        {
          "output_type": "stream",
          "name": "stderr",
          "text": [
            "100%|██████████| 1479/1479 [00:00<00:00, 282292.41it/s]\n",
            "100%|██████████| 1479/1479 [00:00<00:00, 1267288.17it/s]\n",
            "100%|██████████| 1479/1479 [00:00<00:00, 765376.39it/s]\n",
            "100%|██████████| 1479/1479 [00:00<00:00, 1416942.81it/s]\n",
            "100%|██████████| 1479/1479 [00:00<00:00, 1372428.23it/s]\n",
            "100%|██████████| 1479/1479 [00:00<00:00, 1211123.70it/s]\n",
            "100%|██████████| 1479/1479 [00:00<00:00, 1257780.94it/s]\n",
            "100%|██████████| 1479/1479 [00:00<00:00, 1227661.91it/s]\n",
            "100%|██████████| 1479/1479 [00:00<00:00, 1292369.92it/s]\n",
            "100%|██████████| 1479/1479 [00:00<00:00, 1260080.36it/s]\n",
            "100%|██████████| 1479/1479 [00:00<00:00, 1366081.40it/s]\n",
            "100%|██████████| 1479/1479 [00:00<00:00, 1297777.33it/s]\n",
            "100%|██████████| 1479/1479 [00:00<00:00, 1259312.95it/s]\n",
            "100%|██████████| 1479/1479 [00:00<00:00, 1193415.86it/s]\n",
            "100%|██████████| 1479/1479 [00:00<00:00, 1399994.50it/s]\n",
            "100%|██████████| 1479/1479 [00:00<00:00, 1409217.54it/s]\n",
            "100%|██████████| 1479/1479 [00:00<00:00, 1382213.82it/s]\n",
            "100%|██████████| 1479/1479 [00:00<00:00, 1427375.89it/s]\n",
            "100%|██████████| 1479/1479 [00:00<00:00, 1370911.74it/s]\n",
            "100%|██████████| 1479/1479 [00:00<00:00, 1342721.99it/s]\n",
            "100%|██████████| 1479/1479 [00:00<00:00, 1419536.75it/s]\n",
            "100%|██████████| 1479/1479 [00:00<00:00, 1420837.29it/s]\n",
            "100%|██████████| 1479/1479 [00:00<00:00, 1241917.04it/s]\n",
            "100%|██████████| 1479/1479 [00:00<00:00, 1208057.57it/s]\n",
            "100%|██████████| 1479/1479 [00:00<00:00, 1270662.76it/s]\n",
            "100%|██████████| 1479/1479 [00:00<00:00, 1244658.03it/s]\n",
            "100%|██████████| 1479/1479 [00:00<00:00, 1039265.47it/s]\n",
            "100%|██████████| 1479/1479 [00:00<00:00, 1668919.99it/s]\n",
            "100%|██████████| 1479/1479 [00:00<00:00, 1355632.78it/s]\n",
            "100%|██████████| 1479/1479 [00:00<00:00, 960126.24it/s]\n"
          ]
        },
        {
          "output_type": "stream",
          "name": "stdout",
          "text": [
            "CPU times: user 7.62 s, sys: 78.4 ms, total: 7.7 s\n",
            "Wall time: 15.2 s\n"
          ]
        }
      ]
    },
    {
      "cell_type": "code",
      "source": [
        "print(d2v_model)"
      ],
      "metadata": {
        "id": "y5iLLynb_Qhv",
        "colab": {
          "base_uri": "https://localhost:8080/"
        },
        "outputId": "d8737e0d-b8c6-426e-e822-c2f2feb9f451"
      },
      "execution_count": null,
      "outputs": [
        {
          "output_type": "stream",
          "name": "stdout",
          "text": [
            "Doc2Vec<dm/m,d20,n5,w8,s0.001>\n"
          ]
        }
      ]
    },
    {
      "cell_type": "code",
      "source": [
        "len(d2v_model.dv.index_to_key)\n"
      ],
      "metadata": {
        "id": "XfEKKDr6_Qkb",
        "colab": {
          "base_uri": "https://localhost:8080/"
        },
        "outputId": "d9341e72-0cdb-4345-fa49-0df8f1d0c894"
      },
      "execution_count": null,
      "outputs": [
        {
          "output_type": "execute_result",
          "data": {
            "text/plain": [
              "3"
            ]
          },
          "metadata": {},
          "execution_count": 20
        }
      ]
    },
    {
      "cell_type": "code",
      "source": [
        "# Obtén la longitud del vocabulario a partir de index_to_key\n",
        "vocab_length = len(d2v_model.dv.index_to_key)\n",
        "\n",
        "# Crea la matriz de incrustación inicializada con ceros\n",
        "embedding_matrix = np.zeros((vocab_length + 1, 20))  # Asume que el tamaño del vector es 20\n",
        "\n",
        "# Rellena la matriz de incrustación con los vectores de palabras\n",
        "for i, word in enumerate(d2v_model.dv.index_to_key):\n",
        "    embedding_vector = d2v_model.dv.get_vector(word)\n",
        "    if embedding_vector is not None:\n",
        "        embedding_matrix[i + 1] = embedding_vector  # +1 para evitar el índice 0\n",
        "\n",
        "# Ahora, embedding_matrix contiene los vectores de palabras en forma de matriz\n"
      ],
      "metadata": {
        "id": "15qKBFcs_QnB"
      },
      "execution_count": null,
      "outputs": []
    },
    {
      "cell_type": "code",
      "source": [
        "# Measuring distance between two vectors (related to cosine similarity)"
      ],
      "metadata": {
        "id": "Qy9pmRHI_Qpq"
      },
      "execution_count": null,
      "outputs": []
    },
    {
      "cell_type": "code",
      "source": [
        "df.head()"
      ],
      "metadata": {
        "colab": {
          "base_uri": "https://localhost:8080/",
          "height": 206
        },
        "id": "1Fbix5fbxDka",
        "outputId": "c8fc90c4-0165-4b0a-9958-33ca0d3389d4"
      },
      "execution_count": null,
      "outputs": [
        {
          "output_type": "execute_result",
          "data": {
            "text/plain": [
              "   Unnamed: 0                Nombres                Fecha  \\\n",
              "0           0         Samara Almanza   9 de julio de 2023   \n",
              "1           1             WolfBanner  10 de julio de 2023   \n",
              "2           2  Isabella Leal la rosa  29 de julio de 2023   \n",
              "3           3           Rainer Gomez   7 de julio de 2023   \n",
              "4           4           Javier Lerma  18 de julio de 2023   \n",
              "\n",
              "                                          Comentario  \\\n",
              "0  la app está linda, pero muy simple, le falta v...   \n",
              "1  puntos negativos (a grandes rasgos): crashea a...   \n",
              "2  estaba leyendo muchas de las reseñas, muchas d...   \n",
              "3  es una app bastante interesante, pero hasta el...   \n",
              "4  la aplicación es demasiado simple, no es atrac...   \n",
              "\n",
              "                                Valoracion_Personas  Sentimiento  \n",
              "0   639 personas han valorado esta reseña como útil            2  \n",
              "1  3022 personas han valorado esta reseña como útil            2  \n",
              "2  2075 personas han valorado esta reseña como útil            1  \n",
              "3  2000 personas han valorado esta reseña como útil            2  \n",
              "4  1455 personas han valorado esta reseña como útil            2  "
            ],
            "text/html": [
              "\n",
              "  <div id=\"df-d196c455-0fc0-46a0-8f3c-8872de1ecdd4\" class=\"colab-df-container\">\n",
              "    <div>\n",
              "<style scoped>\n",
              "    .dataframe tbody tr th:only-of-type {\n",
              "        vertical-align: middle;\n",
              "    }\n",
              "\n",
              "    .dataframe tbody tr th {\n",
              "        vertical-align: top;\n",
              "    }\n",
              "\n",
              "    .dataframe thead th {\n",
              "        text-align: right;\n",
              "    }\n",
              "</style>\n",
              "<table border=\"1\" class=\"dataframe\">\n",
              "  <thead>\n",
              "    <tr style=\"text-align: right;\">\n",
              "      <th></th>\n",
              "      <th>Unnamed: 0</th>\n",
              "      <th>Nombres</th>\n",
              "      <th>Fecha</th>\n",
              "      <th>Comentario</th>\n",
              "      <th>Valoracion_Personas</th>\n",
              "      <th>Sentimiento</th>\n",
              "    </tr>\n",
              "  </thead>\n",
              "  <tbody>\n",
              "    <tr>\n",
              "      <th>0</th>\n",
              "      <td>0</td>\n",
              "      <td>Samara Almanza</td>\n",
              "      <td>9 de julio de 2023</td>\n",
              "      <td>la app está linda, pero muy simple, le falta v...</td>\n",
              "      <td>639 personas han valorado esta reseña como útil</td>\n",
              "      <td>2</td>\n",
              "    </tr>\n",
              "    <tr>\n",
              "      <th>1</th>\n",
              "      <td>1</td>\n",
              "      <td>WolfBanner</td>\n",
              "      <td>10 de julio de 2023</td>\n",
              "      <td>puntos negativos (a grandes rasgos): crashea a...</td>\n",
              "      <td>3022 personas han valorado esta reseña como útil</td>\n",
              "      <td>2</td>\n",
              "    </tr>\n",
              "    <tr>\n",
              "      <th>2</th>\n",
              "      <td>2</td>\n",
              "      <td>Isabella Leal la rosa</td>\n",
              "      <td>29 de julio de 2023</td>\n",
              "      <td>estaba leyendo muchas de las reseñas, muchas d...</td>\n",
              "      <td>2075 personas han valorado esta reseña como útil</td>\n",
              "      <td>1</td>\n",
              "    </tr>\n",
              "    <tr>\n",
              "      <th>3</th>\n",
              "      <td>3</td>\n",
              "      <td>Rainer Gomez</td>\n",
              "      <td>7 de julio de 2023</td>\n",
              "      <td>es una app bastante interesante, pero hasta el...</td>\n",
              "      <td>2000 personas han valorado esta reseña como útil</td>\n",
              "      <td>2</td>\n",
              "    </tr>\n",
              "    <tr>\n",
              "      <th>4</th>\n",
              "      <td>4</td>\n",
              "      <td>Javier Lerma</td>\n",
              "      <td>18 de julio de 2023</td>\n",
              "      <td>la aplicación es demasiado simple, no es atrac...</td>\n",
              "      <td>1455 personas han valorado esta reseña como útil</td>\n",
              "      <td>2</td>\n",
              "    </tr>\n",
              "  </tbody>\n",
              "</table>\n",
              "</div>\n",
              "    <div class=\"colab-df-buttons\">\n",
              "\n",
              "  <div class=\"colab-df-container\">\n",
              "    <button class=\"colab-df-convert\" onclick=\"convertToInteractive('df-d196c455-0fc0-46a0-8f3c-8872de1ecdd4')\"\n",
              "            title=\"Convert this dataframe to an interactive table.\"\n",
              "            style=\"display:none;\">\n",
              "\n",
              "  <svg xmlns=\"http://www.w3.org/2000/svg\" height=\"24px\" viewBox=\"0 -960 960 960\">\n",
              "    <path d=\"M120-120v-720h720v720H120Zm60-500h600v-160H180v160Zm220 220h160v-160H400v160Zm0 220h160v-160H400v160ZM180-400h160v-160H180v160Zm440 0h160v-160H620v160ZM180-180h160v-160H180v160Zm440 0h160v-160H620v160Z\"/>\n",
              "  </svg>\n",
              "    </button>\n",
              "\n",
              "  <style>\n",
              "    .colab-df-container {\n",
              "      display:flex;\n",
              "      gap: 12px;\n",
              "    }\n",
              "\n",
              "    .colab-df-convert {\n",
              "      background-color: #E8F0FE;\n",
              "      border: none;\n",
              "      border-radius: 50%;\n",
              "      cursor: pointer;\n",
              "      display: none;\n",
              "      fill: #1967D2;\n",
              "      height: 32px;\n",
              "      padding: 0 0 0 0;\n",
              "      width: 32px;\n",
              "    }\n",
              "\n",
              "    .colab-df-convert:hover {\n",
              "      background-color: #E2EBFA;\n",
              "      box-shadow: 0px 1px 2px rgba(60, 64, 67, 0.3), 0px 1px 3px 1px rgba(60, 64, 67, 0.15);\n",
              "      fill: #174EA6;\n",
              "    }\n",
              "\n",
              "    .colab-df-buttons div {\n",
              "      margin-bottom: 4px;\n",
              "    }\n",
              "\n",
              "    [theme=dark] .colab-df-convert {\n",
              "      background-color: #3B4455;\n",
              "      fill: #D2E3FC;\n",
              "    }\n",
              "\n",
              "    [theme=dark] .colab-df-convert:hover {\n",
              "      background-color: #434B5C;\n",
              "      box-shadow: 0px 1px 3px 1px rgba(0, 0, 0, 0.15);\n",
              "      filter: drop-shadow(0px 1px 2px rgba(0, 0, 0, 0.3));\n",
              "      fill: #FFFFFF;\n",
              "    }\n",
              "  </style>\n",
              "\n",
              "    <script>\n",
              "      const buttonEl =\n",
              "        document.querySelector('#df-d196c455-0fc0-46a0-8f3c-8872de1ecdd4 button.colab-df-convert');\n",
              "      buttonEl.style.display =\n",
              "        google.colab.kernel.accessAllowed ? 'block' : 'none';\n",
              "\n",
              "      async function convertToInteractive(key) {\n",
              "        const element = document.querySelector('#df-d196c455-0fc0-46a0-8f3c-8872de1ecdd4');\n",
              "        const dataTable =\n",
              "          await google.colab.kernel.invokeFunction('convertToInteractive',\n",
              "                                                    [key], {});\n",
              "        if (!dataTable) return;\n",
              "\n",
              "        const docLinkHtml = 'Like what you see? Visit the ' +\n",
              "          '<a target=\"_blank\" href=https://colab.research.google.com/notebooks/data_table.ipynb>data table notebook</a>'\n",
              "          + ' to learn more about interactive tables.';\n",
              "        element.innerHTML = '';\n",
              "        dataTable['output_type'] = 'display_data';\n",
              "        await google.colab.output.renderOutput(dataTable, element);\n",
              "        const docLink = document.createElement('div');\n",
              "        docLink.innerHTML = docLinkHtml;\n",
              "        element.appendChild(docLink);\n",
              "      }\n",
              "    </script>\n",
              "  </div>\n",
              "\n",
              "\n",
              "<div id=\"df-fc63f948-be95-460f-9fad-7ff5158b0b1b\">\n",
              "  <button class=\"colab-df-quickchart\" onclick=\"quickchart('df-fc63f948-be95-460f-9fad-7ff5158b0b1b')\"\n",
              "            title=\"Suggest charts.\"\n",
              "            style=\"display:none;\">\n",
              "\n",
              "<svg xmlns=\"http://www.w3.org/2000/svg\" height=\"24px\"viewBox=\"0 0 24 24\"\n",
              "     width=\"24px\">\n",
              "    <g>\n",
              "        <path d=\"M19 3H5c-1.1 0-2 .9-2 2v14c0 1.1.9 2 2 2h14c1.1 0 2-.9 2-2V5c0-1.1-.9-2-2-2zM9 17H7v-7h2v7zm4 0h-2V7h2v10zm4 0h-2v-4h2v4z\"/>\n",
              "    </g>\n",
              "</svg>\n",
              "  </button>\n",
              "\n",
              "<style>\n",
              "  .colab-df-quickchart {\n",
              "      --bg-color: #E8F0FE;\n",
              "      --fill-color: #1967D2;\n",
              "      --hover-bg-color: #E2EBFA;\n",
              "      --hover-fill-color: #174EA6;\n",
              "      --disabled-fill-color: #AAA;\n",
              "      --disabled-bg-color: #DDD;\n",
              "  }\n",
              "\n",
              "  [theme=dark] .colab-df-quickchart {\n",
              "      --bg-color: #3B4455;\n",
              "      --fill-color: #D2E3FC;\n",
              "      --hover-bg-color: #434B5C;\n",
              "      --hover-fill-color: #FFFFFF;\n",
              "      --disabled-bg-color: #3B4455;\n",
              "      --disabled-fill-color: #666;\n",
              "  }\n",
              "\n",
              "  .colab-df-quickchart {\n",
              "    background-color: var(--bg-color);\n",
              "    border: none;\n",
              "    border-radius: 50%;\n",
              "    cursor: pointer;\n",
              "    display: none;\n",
              "    fill: var(--fill-color);\n",
              "    height: 32px;\n",
              "    padding: 0;\n",
              "    width: 32px;\n",
              "  }\n",
              "\n",
              "  .colab-df-quickchart:hover {\n",
              "    background-color: var(--hover-bg-color);\n",
              "    box-shadow: 0 1px 2px rgba(60, 64, 67, 0.3), 0 1px 3px 1px rgba(60, 64, 67, 0.15);\n",
              "    fill: var(--button-hover-fill-color);\n",
              "  }\n",
              "\n",
              "  .colab-df-quickchart-complete:disabled,\n",
              "  .colab-df-quickchart-complete:disabled:hover {\n",
              "    background-color: var(--disabled-bg-color);\n",
              "    fill: var(--disabled-fill-color);\n",
              "    box-shadow: none;\n",
              "  }\n",
              "\n",
              "  .colab-df-spinner {\n",
              "    border: 2px solid var(--fill-color);\n",
              "    border-color: transparent;\n",
              "    border-bottom-color: var(--fill-color);\n",
              "    animation:\n",
              "      spin 1s steps(1) infinite;\n",
              "  }\n",
              "\n",
              "  @keyframes spin {\n",
              "    0% {\n",
              "      border-color: transparent;\n",
              "      border-bottom-color: var(--fill-color);\n",
              "      border-left-color: var(--fill-color);\n",
              "    }\n",
              "    20% {\n",
              "      border-color: transparent;\n",
              "      border-left-color: var(--fill-color);\n",
              "      border-top-color: var(--fill-color);\n",
              "    }\n",
              "    30% {\n",
              "      border-color: transparent;\n",
              "      border-left-color: var(--fill-color);\n",
              "      border-top-color: var(--fill-color);\n",
              "      border-right-color: var(--fill-color);\n",
              "    }\n",
              "    40% {\n",
              "      border-color: transparent;\n",
              "      border-right-color: var(--fill-color);\n",
              "      border-top-color: var(--fill-color);\n",
              "    }\n",
              "    60% {\n",
              "      border-color: transparent;\n",
              "      border-right-color: var(--fill-color);\n",
              "    }\n",
              "    80% {\n",
              "      border-color: transparent;\n",
              "      border-right-color: var(--fill-color);\n",
              "      border-bottom-color: var(--fill-color);\n",
              "    }\n",
              "    90% {\n",
              "      border-color: transparent;\n",
              "      border-bottom-color: var(--fill-color);\n",
              "    }\n",
              "  }\n",
              "</style>\n",
              "\n",
              "  <script>\n",
              "    async function quickchart(key) {\n",
              "      const quickchartButtonEl =\n",
              "        document.querySelector('#' + key + ' button');\n",
              "      quickchartButtonEl.disabled = true;  // To prevent multiple clicks.\n",
              "      quickchartButtonEl.classList.add('colab-df-spinner');\n",
              "      try {\n",
              "        const charts = await google.colab.kernel.invokeFunction(\n",
              "            'suggestCharts', [key], {});\n",
              "      } catch (error) {\n",
              "        console.error('Error during call to suggestCharts:', error);\n",
              "      }\n",
              "      quickchartButtonEl.classList.remove('colab-df-spinner');\n",
              "      quickchartButtonEl.classList.add('colab-df-quickchart-complete');\n",
              "    }\n",
              "    (() => {\n",
              "      let quickchartButtonEl =\n",
              "        document.querySelector('#df-fc63f948-be95-460f-9fad-7ff5158b0b1b button');\n",
              "      quickchartButtonEl.style.display =\n",
              "        google.colab.kernel.accessAllowed ? 'block' : 'none';\n",
              "    })();\n",
              "  </script>\n",
              "</div>\n",
              "    </div>\n",
              "  </div>\n"
            ]
          },
          "metadata": {},
          "execution_count": 23
        }
      ]
    },
    {
      "cell_type": "code",
      "source": [
        "# Contar cuántos ceros (0) tienes en la columna \"Sentimiento\"\n",
        "cantidad_de_ceros = (df['Sentimiento'] == 0).sum()\n",
        "\n",
        "# Imprimir la cantidad de ceros\n",
        "print(f\"Cantidad de ceros en la columna 'Sentimiento': {cantidad_de_ceros}\")"
      ],
      "metadata": {
        "colab": {
          "base_uri": "https://localhost:8080/"
        },
        "id": "oqm_G95QxX9x",
        "outputId": "946c7b36-c166-4cd5-bd41-c25f0b83fe08"
      },
      "execution_count": null,
      "outputs": [
        {
          "output_type": "stream",
          "name": "stdout",
          "text": [
            "Cantidad de ceros en la columna 'Sentimiento': 118\n"
          ]
        }
      ]
    },
    {
      "cell_type": "code",
      "source": [
        "# Contar cuántos unos (1) tienes en la columna \"Sentimiento\"\n",
        "cantidad_de_ceros = (df['Sentimiento'] == 1).sum()\n",
        "\n",
        "# Imprimir la cantidad de ceros\n",
        "print(f\"Cantidad de 1 en la columna 'Sentimiento': {cantidad_de_ceros}\")"
      ],
      "metadata": {
        "colab": {
          "base_uri": "https://localhost:8080/"
        },
        "id": "xGrenOGRxZ8J",
        "outputId": "8175c074-7e43-4d58-acbb-c7eefb82667a"
      },
      "execution_count": null,
      "outputs": [
        {
          "output_type": "stream",
          "name": "stdout",
          "text": [
            "Cantidad de 1 en la columna 'Sentimiento': 267\n"
          ]
        }
      ]
    },
    {
      "cell_type": "code",
      "source": [
        "# Contar cuántos doses (2) tienes en la columna \"Sentimiento\"\n",
        "cantidad_de_ceros = (df['Sentimiento'] == 2).sum()\n",
        "\n",
        "# Imprimir la cantidad de ceros\n",
        "print(f\"Cantidad de 2 en la columna 'Sentimiento': {cantidad_de_ceros}\")"
      ],
      "metadata": {
        "colab": {
          "base_uri": "https://localhost:8080/"
        },
        "id": "powZHAFexaF5",
        "outputId": "a991eca0-01c4-49b6-c4b9-8d84ea71531c"
      },
      "execution_count": null,
      "outputs": [
        {
          "output_type": "stream",
          "name": "stdout",
          "text": [
            "Cantidad de 2 en la columna 'Sentimiento': 1095\n"
          ]
        }
      ]
    },
    {
      "cell_type": "code",
      "source": [
        "import pandas as pd\n",
        "from collections import Counter\n",
        "import nltk\n",
        "from nltk.corpus import stopwords\n",
        "\n",
        "# Descargar la lista de stopwords en español si no la tienes\n",
        "nltk.download('stopwords')\n",
        "stopwords_spanish = set(stopwords.words('spanish'))\n",
        "\n",
        "\n",
        "# Filtrar las filas donde \"Sentimiento\" es igual a 0\n",
        "sentimiento_0 = df[df['Sentimiento'] == 0]\n",
        "\n",
        "# Concatenar los comentarios en una sola cadena\n",
        "comentarios = ' '.join(sentimiento_0['Comentario'])\n",
        "\n",
        "# Tokenizar las palabras\n",
        "palabras = comentarios.split()\n",
        "\n",
        "# Filtrar las palabras eliminando las stopwords en español\n",
        "palabras_filtradas = [palabra.lower() for palabra in palabras if palabra.lower() not in stopwords_spanish]\n",
        "\n",
        "# Contar la frecuencia de cada palabra\n",
        "frecuencia_palabras = Counter(palabras_filtradas)\n",
        "\n",
        "# Obtener las 5 palabras más comunes\n",
        "palabras_mas_comunes = frecuencia_palabras.most_common(5)\n",
        "\n",
        "# Imprimir las 5 palabras más comunes y sus frecuencias\n",
        "print(\"Las 5 palabras más comunes (sin stopwords en español) en comentarios con Sentimiento 0 son:\")\n",
        "for palabra, frecuencia in palabras_mas_comunes:\n",
        "    print(f\"'{palabra}': {frecuencia} ocurrencias\")\n"
      ],
      "metadata": {
        "colab": {
          "base_uri": "https://localhost:8080/"
        },
        "id": "p71q3NWJxiba",
        "outputId": "6b08c076-4214-4684-ce2e-0a20139f42cc"
      },
      "execution_count": null,
      "outputs": [
        {
          "output_type": "stream",
          "name": "stdout",
          "text": [
            "Las 5 palabras más comunes (sin stopwords en español) en comentarios con Sentimiento 0 son:\n",
            "'app': 36 ocurrencias\n",
            "'buena': 33 ocurrencias\n",
            "'aplicación': 23 ocurrencias\n",
            "'twitter': 18 ocurrencias\n",
            "'gusta': 16 ocurrencias\n"
          ]
        },
        {
          "output_type": "stream",
          "name": "stderr",
          "text": [
            "[nltk_data] Downloading package stopwords to /root/nltk_data...\n",
            "[nltk_data]   Package stopwords is already up-to-date!\n"
          ]
        }
      ]
    },
    {
      "cell_type": "code",
      "source": [
        "d2v_model.wv.most_similar(positive=['app'], topn=10)\n"
      ],
      "metadata": {
        "id": "PWgCHUdW_QsT",
        "colab": {
          "base_uri": "https://localhost:8080/"
        },
        "outputId": "732d3ca1-284f-4c07-c6d3-1317775a21be"
      },
      "execution_count": null,
      "outputs": [
        {
          "output_type": "execute_result",
          "data": {
            "text/plain": [
              "[('aplicación', 0.8571616411209106),\n",
              " ('📱', 0.7912221550941467),\n",
              " ('comunidad', 0.7887798547744751),\n",
              " ('realizada', 0.7543168067932129),\n",
              " ('recordar', 0.7511799931526184),\n",
              " ('defectuosa', 0.7464021444320679),\n",
              " ('virus', 0.7368091344833374),\n",
              " ('desesperado', 0.7290073037147522),\n",
              " ('simplicidad', 0.7220069766044617),\n",
              " ('descargada', 0.7070203423500061)]"
            ]
          },
          "metadata": {},
          "execution_count": 28
        }
      ]
    },
    {
      "cell_type": "code",
      "source": [
        "d2v_model.wv.most_similar(positive=['buena'], topn=10)"
      ],
      "metadata": {
        "id": "KVqMvkNx_Q8l",
        "colab": {
          "base_uri": "https://localhost:8080/"
        },
        "outputId": "fda0a0fb-6e24-4538-c333-5921b190fabd"
      },
      "execution_count": null,
      "outputs": [
        {
          "output_type": "execute_result",
          "data": {
            "text/plain": [
              "[('fresca', 0.7448479533195496),\n",
              " ('estuviesen', 0.7419509887695312),\n",
              " ('querían', 0.7416414022445679),\n",
              " ('weba', 0.7406327128410339),\n",
              " ('twitterr', 0.7355034351348877),\n",
              " ('obligando', 0.6997349858283997),\n",
              " ('profundidad', 0.6940613985061646),\n",
              " ('restrictiva', 0.6912769079208374),\n",
              " ('trabando', 0.6912544965744019),\n",
              " ('iniciando', 0.6887046098709106)]"
            ]
          },
          "metadata": {},
          "execution_count": 29
        }
      ]
    },
    {
      "cell_type": "code",
      "source": [
        "d2v_model.wv.most_similar(positive=['aplicación'], topn=10)"
      ],
      "metadata": {
        "id": "GXRMoGdg_RAE",
        "colab": {
          "base_uri": "https://localhost:8080/"
        },
        "outputId": "0d7a0003-9518-4e4e-d480-ab27845114f6"
      },
      "execution_count": null,
      "outputs": [
        {
          "output_type": "execute_result",
          "data": {
            "text/plain": [
              "[('app', 0.8571617007255554),\n",
              " ('defectuosa', 0.8418967723846436),\n",
              " ('ventanita', 0.7926285862922668),\n",
              " ('falla', 0.7732213139533997),\n",
              " ('desesperado', 0.7651621699333191),\n",
              " ('comunidad', 0.7273178100585938),\n",
              " ('aplicacion', 0.7140048146247864),\n",
              " ('sacaron', 0.7099772691726685),\n",
              " ('realizada', 0.7056635022163391),\n",
              " ('increíble', 0.6901670694351196)]"
            ]
          },
          "metadata": {},
          "execution_count": 30
        }
      ]
    },
    {
      "cell_type": "code",
      "source": [
        "from sklearn.manifold import TSNE\n",
        "import matplotlib.pyplot as plt\n",
        "%matplotlib inline\n",
        "import numpy as np\n",
        "\n",
        "def tsne_plot(model, word):\n",
        "    \"Crea un modelo TSNE y lo grafica\"\n",
        "    labels = []\n",
        "    tokens = []\n",
        "\n",
        "    similar_words = model.wv.most_similar(positive=[word], topn=10)\n",
        "    for similar_word, _ in similar_words:\n",
        "        tokens.append(model.wv[similar_word])\n",
        "        labels.append(similar_word)\n",
        "\n",
        "    tokens = np.array(tokens)\n",
        "\n",
        "    # Utiliza un valor de perplexity menor, por ejemplo, 5\n",
        "    tsne_model = TSNE(perplexity=5, n_components=2, init='pca', n_iter=250, random_state=23)\n",
        "    new_values = tsne_model.fit_transform(tokens)\n",
        "\n",
        "    x = []\n",
        "    y = []\n",
        "    for value in new_values:\n",
        "        x.append(value[0])\n",
        "        y.append(value[1])\n",
        "\n",
        "    plt.figure(figsize=(16, 16))\n",
        "    for i in range(len(x)):\n",
        "        plt.scatter(x[i], y[i])\n",
        "        plt.annotate(labels[i],\n",
        "                     xy=(x[i], y[i]),\n",
        "                     xytext=(5, 2),\n",
        "                     textcoords='offset points',\n",
        "                     ha='right',\n",
        "                     va='bottom')\n",
        "    plt.show()\n",
        "\n",
        "# Llama a la función tsne_plot con tu modelo Doc2Vec y la palabra de tu elección\n",
        "tsne_plot(d2v_model, 'aplicación')\n",
        "\n",
        "\n"
      ],
      "metadata": {
        "colab": {
          "base_uri": "https://localhost:8080/",
          "height": 1000
        },
        "id": "nj61E5VO1rWP",
        "outputId": "86f5eb4b-20b7-4b3a-d92a-f18a5b1f545e"
      },
      "execution_count": null,
      "outputs": [
        {
          "output_type": "display_data",
          "data": {
            "text/plain": [
              "<Figure size 1600x1600 with 1 Axes>"
            ],
            "image/png": "[encoded data removed]"
          },
          "metadata": {}
        }
      ]
    },
    {
      "cell_type": "code",
      "source": [
        "# LSTM"
      ],
      "metadata": {
        "id": "DGmL9FnrHfda"
      },
      "execution_count": null,
      "outputs": []
    },
    {
      "cell_type": "code",
      "source": [
        "import numpy as np\n",
        "import pandas as pd\n",
        "from sklearn.model_selection import train_test_split\n",
        "from tensorflow.keras.preprocessing.text import Tokenizer\n",
        "from tensorflow.keras.preprocessing.sequence import pad_sequences\n",
        "from tensorflow.keras.models import Sequential\n",
        "from tensorflow.keras.layers import Embedding, LSTM, Dense\n",
        "from tensorflow.keras.utils import to_categorical\n",
        "\n",
        "# Supongamos que tienes tus datos cargados en un DataFrame llamado 'df'\n",
        "# Y has dividido tus datos en conjuntos de entrenamiento y prueba (X_train, X_test, Y_train, Y_test)\n",
        "\n",
        "# Tokenizar el texto y convertirlo en secuencias numéricas\n",
        "max_words = 10000  # Número máximo de palabras a considerar\n",
        "tokenizer = Tokenizer(num_words=max_words)\n",
        "tokenizer.fit_on_texts(df['Comentario'])\n",
        "X = tokenizer.texts_to_sequences(df['Comentario'])\n",
        "\n",
        "# Asegurarse de que todas las secuencias tengan la misma longitud\n",
        "max_len = 100  # Longitud máxima de las secuencias\n",
        "X = pad_sequences(X, maxlen=max_len)\n",
        "\n",
        "# Convertir las etiquetas de clase en one-hot encoding\n",
        "Y = to_categorical(df['Sentimiento'])\n",
        "\n",
        "# Dividir los datos en conjuntos de entrenamiento y prueba\n",
        "X_train, X_test, Y_train, Y_test = train_test_split(X, Y, test_size=0.15, random_state=42)\n",
        "\n",
        "# Crear el modelo de red neuronal LSTM\n",
        "model = Sequential()\n",
        "model.add(Embedding(input_dim=max_words, output_dim=128, input_length=max_len))\n",
        "model.add(LSTM(128))\n",
        "model.add(Dense(3, activation='softmax'))  # 3 clases de sentimiento: negativo, neutral y positivo\n",
        "\n",
        "# Compilar el modelo\n",
        "model.compile(optimizer='adam', loss='categorical_crossentropy', metrics=['accuracy'])\n",
        "\n",
        "# Entrenar el modelo\n",
        "batch_size = 32\n",
        "epochs = 50\n",
        "history = model.fit(X_train, Y_train, epochs=epochs, batch_size=batch_size, verbose=2, validation_split=0.1)\n",
        "\n",
        "# Evaluar el modelo en el conjunto de prueba\n",
        "loss, accuracy = model.evaluate(X_test, Y_test, verbose=0)\n",
        "print(f'Pérdida en el conjunto de prueba: {loss:.4f}')\n",
        "print(f'Precisión en el conjunto de prueba: {accuracy*100:.2f}%')\n"
      ],
      "metadata": {
        "colab": {
          "base_uri": "https://localhost:8080/"
        },
        "id": "m-px4-qvHfgD",
        "outputId": "95b627d0-2e2d-41c2-b69f-53b63d96fd72"
      },
      "execution_count": null,
      "outputs": [
        {
          "output_type": "stream",
          "name": "stdout",
          "text": [
            "Epoch 1/50\n",
            "36/36 - 16s - loss: 0.7988 - accuracy: 0.7164 - val_loss: 0.6221 - val_accuracy: 0.7778 - 16s/epoch - 458ms/step\n",
            "Epoch 2/50\n",
            "36/36 - 10s - loss: 0.5874 - accuracy: 0.7562 - val_loss: 0.5650 - val_accuracy: 0.8016 - 10s/epoch - 275ms/step\n",
            "Epoch 3/50\n",
            "36/36 - 7s - loss: 0.3612 - accuracy: 0.8551 - val_loss: 0.7063 - val_accuracy: 0.7778 - 7s/epoch - 183ms/step\n",
            "Epoch 4/50\n",
            "36/36 - 10s - loss: 0.2255 - accuracy: 0.9152 - val_loss: 0.4914 - val_accuracy: 0.8016 - 10s/epoch - 272ms/step\n",
            "Epoch 5/50\n",
            "36/36 - 7s - loss: 0.1470 - accuracy: 0.9470 - val_loss: 0.5101 - val_accuracy: 0.8254 - 7s/epoch - 186ms/step\n",
            "Epoch 6/50\n",
            "36/36 - 10s - loss: 0.0915 - accuracy: 0.9770 - val_loss: 0.7897 - val_accuracy: 0.8016 - 10s/epoch - 279ms/step\n",
            "Epoch 7/50\n",
            "36/36 - 7s - loss: 0.0433 - accuracy: 0.9903 - val_loss: 0.7714 - val_accuracy: 0.7937 - 7s/epoch - 187ms/step\n",
            "Epoch 8/50\n",
            "36/36 - 10s - loss: 0.0250 - accuracy: 0.9947 - val_loss: 0.7080 - val_accuracy: 0.8016 - 10s/epoch - 275ms/step\n",
            "Epoch 9/50\n",
            "36/36 - 7s - loss: 0.0113 - accuracy: 0.9973 - val_loss: 0.7063 - val_accuracy: 0.8095 - 7s/epoch - 186ms/step\n",
            "Epoch 10/50\n",
            "36/36 - 10s - loss: 0.0073 - accuracy: 1.0000 - val_loss: 0.8757 - val_accuracy: 0.7937 - 10s/epoch - 280ms/step\n",
            "Epoch 11/50\n",
            "36/36 - 8s - loss: 0.0023 - accuracy: 1.0000 - val_loss: 0.9286 - val_accuracy: 0.8175 - 8s/epoch - 222ms/step\n",
            "Epoch 12/50\n",
            "36/36 - 10s - loss: 0.0013 - accuracy: 1.0000 - val_loss: 0.9426 - val_accuracy: 0.8175 - 10s/epoch - 268ms/step\n",
            "Epoch 13/50\n",
            "36/36 - 7s - loss: 8.2068e-04 - accuracy: 1.0000 - val_loss: 0.9633 - val_accuracy: 0.8095 - 7s/epoch - 201ms/step\n",
            "Epoch 14/50\n",
            "36/36 - 9s - loss: 5.9911e-04 - accuracy: 1.0000 - val_loss: 1.0030 - val_accuracy: 0.8095 - 9s/epoch - 257ms/step\n",
            "Epoch 15/50\n",
            "36/36 - 7s - loss: 4.6240e-04 - accuracy: 1.0000 - val_loss: 1.0369 - val_accuracy: 0.8016 - 7s/epoch - 205ms/step\n",
            "Epoch 16/50\n",
            "36/36 - 9s - loss: 3.9724e-04 - accuracy: 1.0000 - val_loss: 1.0531 - val_accuracy: 0.8095 - 9s/epoch - 257ms/step\n",
            "Epoch 17/50\n",
            "36/36 - 8s - loss: 3.1169e-04 - accuracy: 1.0000 - val_loss: 1.0759 - val_accuracy: 0.8095 - 8s/epoch - 210ms/step\n",
            "Epoch 18/50\n",
            "36/36 - 9s - loss: 2.6824e-04 - accuracy: 1.0000 - val_loss: 1.0961 - val_accuracy: 0.8095 - 9s/epoch - 254ms/step\n",
            "Epoch 19/50\n",
            "36/36 - 8s - loss: 2.3628e-04 - accuracy: 1.0000 - val_loss: 1.1093 - val_accuracy: 0.8016 - 8s/epoch - 218ms/step\n",
            "Epoch 20/50\n",
            "36/36 - 9s - loss: 2.0553e-04 - accuracy: 1.0000 - val_loss: 1.1184 - val_accuracy: 0.8095 - 9s/epoch - 244ms/step\n",
            "Epoch 21/50\n",
            "36/36 - 11s - loss: 1.8375e-04 - accuracy: 1.0000 - val_loss: 1.1376 - val_accuracy: 0.8095 - 11s/epoch - 306ms/step\n",
            "Epoch 22/50\n",
            "36/36 - 7s - loss: 1.6339e-04 - accuracy: 1.0000 - val_loss: 1.1552 - val_accuracy: 0.8016 - 7s/epoch - 202ms/step\n",
            "Epoch 23/50\n",
            "36/36 - 9s - loss: 1.5233e-04 - accuracy: 1.0000 - val_loss: 1.1635 - val_accuracy: 0.8016 - 9s/epoch - 256ms/step\n",
            "Epoch 24/50\n",
            "36/36 - 7s - loss: 1.3280e-04 - accuracy: 1.0000 - val_loss: 1.1776 - val_accuracy: 0.8095 - 7s/epoch - 204ms/step\n",
            "Epoch 25/50\n",
            "36/36 - 9s - loss: 1.2321e-04 - accuracy: 1.0000 - val_loss: 1.1954 - val_accuracy: 0.8095 - 9s/epoch - 264ms/step\n",
            "Epoch 26/50\n",
            "36/36 - 7s - loss: 1.1065e-04 - accuracy: 1.0000 - val_loss: 1.1941 - val_accuracy: 0.8095 - 7s/epoch - 199ms/step\n",
            "Epoch 27/50\n",
            "36/36 - 9s - loss: 1.1429e-04 - accuracy: 1.0000 - val_loss: 1.1859 - val_accuracy: 0.8095 - 9s/epoch - 261ms/step\n",
            "Epoch 28/50\n",
            "36/36 - 7s - loss: 1.0015e-04 - accuracy: 1.0000 - val_loss: 1.2021 - val_accuracy: 0.8095 - 7s/epoch - 196ms/step\n",
            "Epoch 29/50\n",
            "36/36 - 9s - loss: 9.1304e-05 - accuracy: 1.0000 - val_loss: 1.2224 - val_accuracy: 0.8175 - 9s/epoch - 257ms/step\n",
            "Epoch 30/50\n",
            "36/36 - 7s - loss: 8.3523e-05 - accuracy: 1.0000 - val_loss: 1.2365 - val_accuracy: 0.8175 - 7s/epoch - 197ms/step\n",
            "Epoch 31/50\n",
            "36/36 - 9s - loss: 7.7377e-05 - accuracy: 1.0000 - val_loss: 1.2504 - val_accuracy: 0.8175 - 9s/epoch - 258ms/step\n",
            "Epoch 32/50\n",
            "36/36 - 7s - loss: 7.3111e-05 - accuracy: 1.0000 - val_loss: 1.2575 - val_accuracy: 0.8175 - 7s/epoch - 198ms/step\n",
            "Epoch 33/50\n",
            "36/36 - 9s - loss: 6.7859e-05 - accuracy: 1.0000 - val_loss: 1.2641 - val_accuracy: 0.8095 - 9s/epoch - 256ms/step\n",
            "Epoch 34/50\n",
            "36/36 - 7s - loss: 6.3699e-05 - accuracy: 1.0000 - val_loss: 1.2742 - val_accuracy: 0.8175 - 7s/epoch - 202ms/step\n",
            "Epoch 35/50\n",
            "36/36 - 9s - loss: 5.9279e-05 - accuracy: 1.0000 - val_loss: 1.2893 - val_accuracy: 0.8175 - 9s/epoch - 262ms/step\n",
            "Epoch 36/50\n",
            "36/36 - 7s - loss: 5.6906e-05 - accuracy: 1.0000 - val_loss: 1.2854 - val_accuracy: 0.8095 - 7s/epoch - 198ms/step\n",
            "Epoch 37/50\n",
            "36/36 - 9s - loss: 5.5381e-05 - accuracy: 1.0000 - val_loss: 1.2943 - val_accuracy: 0.8095 - 9s/epoch - 253ms/step\n",
            "Epoch 38/50\n",
            "36/36 - 7s - loss: 5.2962e-05 - accuracy: 1.0000 - val_loss: 1.3024 - val_accuracy: 0.8175 - 7s/epoch - 201ms/step\n",
            "Epoch 39/50\n",
            "36/36 - 9s - loss: 4.8286e-05 - accuracy: 1.0000 - val_loss: 1.3069 - val_accuracy: 0.8175 - 9s/epoch - 250ms/step\n",
            "Epoch 40/50\n",
            "36/36 - 8s - loss: 4.5250e-05 - accuracy: 1.0000 - val_loss: 1.3175 - val_accuracy: 0.8175 - 8s/epoch - 210ms/step\n",
            "Epoch 41/50\n",
            "36/36 - 9s - loss: 4.2944e-05 - accuracy: 1.0000 - val_loss: 1.3251 - val_accuracy: 0.8095 - 9s/epoch - 241ms/step\n",
            "Epoch 42/50\n",
            "36/36 - 8s - loss: 4.0924e-05 - accuracy: 1.0000 - val_loss: 1.3295 - val_accuracy: 0.8095 - 8s/epoch - 212ms/step\n",
            "Epoch 43/50\n",
            "36/36 - 9s - loss: 3.8668e-05 - accuracy: 1.0000 - val_loss: 1.3391 - val_accuracy: 0.8175 - 9s/epoch - 242ms/step\n",
            "Epoch 44/50\n",
            "36/36 - 8s - loss: 3.6644e-05 - accuracy: 1.0000 - val_loss: 1.3408 - val_accuracy: 0.8095 - 8s/epoch - 214ms/step\n",
            "Epoch 45/50\n",
            "36/36 - 9s - loss: 3.5797e-05 - accuracy: 1.0000 - val_loss: 1.3513 - val_accuracy: 0.8095 - 9s/epoch - 240ms/step\n",
            "Epoch 46/50\n",
            "36/36 - 8s - loss: 3.3754e-05 - accuracy: 1.0000 - val_loss: 1.3525 - val_accuracy: 0.8095 - 8s/epoch - 219ms/step\n",
            "Epoch 47/50\n",
            "36/36 - 8s - loss: 3.2931e-05 - accuracy: 1.0000 - val_loss: 1.3626 - val_accuracy: 0.8095 - 8s/epoch - 230ms/step\n",
            "Epoch 48/50\n",
            "36/36 - 8s - loss: 3.0848e-05 - accuracy: 1.0000 - val_loss: 1.3722 - val_accuracy: 0.8095 - 8s/epoch - 226ms/step\n",
            "Epoch 49/50\n",
            "36/36 - 8s - loss: 2.9421e-05 - accuracy: 1.0000 - val_loss: 1.3715 - val_accuracy: 0.8095 - 8s/epoch - 231ms/step\n",
            "Epoch 50/50\n",
            "36/36 - 8s - loss: 2.8128e-05 - accuracy: 1.0000 - val_loss: 1.3855 - val_accuracy: 0.8175 - 8s/epoch - 228ms/step\n",
            "Pérdida en el conjunto de prueba: 1.3673\n",
            "Precisión en el conjunto de prueba: 77.93%\n"
          ]
        }
      ]
    },
    {
      "cell_type": "code",
      "source": [
        "# GRAFICOS\n",
        "\n",
        "import matplotlib.pyplot as plt\n",
        "\n",
        "# Historia del entrenamiento\n",
        "training_loss = history.history['loss']\n",
        "training_accuracy = history.history['accuracy']\n",
        "validation_loss = history.history['val_loss']\n",
        "validation_accuracy = history.history['val_accuracy']\n",
        "epochs = range(1, len(training_loss) + 1)\n",
        "\n",
        "# Gráfico de pérdida\n",
        "plt.figure(figsize=(12, 4))\n",
        "plt.subplot(1, 2, 1)\n",
        "plt.plot(epochs, training_loss, 'b', label='Pérdida de entrenamiento')\n",
        "plt.plot(epochs, validation_loss, 'r', label='Pérdida de validación')\n",
        "plt.title('Pérdida de entrenamiento y validación')\n",
        "plt.xlabel('Épocas')\n",
        "plt.ylabel('Pérdida')\n",
        "plt.legend()\n",
        "\n",
        "# Gráfico de precisión\n",
        "plt.subplot(1, 2, 2)\n",
        "plt.plot(epochs, training_accuracy, 'b', label='Precisión de entrenamiento')\n",
        "plt.plot(epochs, validation_accuracy, 'r', label='Precisión de validación')\n",
        "plt.title('Precisión de entrenamiento y validación')\n",
        "plt.xlabel('Épocas')\n",
        "plt.ylabel('Precisión')\n",
        "plt.legend()\n",
        "\n",
        "plt.tight_layout()\n",
        "plt.show()\n"
      ],
      "metadata": {
        "colab": {
          "base_uri": "https://localhost:8080/",
          "height": 407
        },
        "id": "jVHAWwK5HfjA",
        "outputId": "02a2f04f-e318-4876-8462-f41a25b86f68"
      },
      "execution_count": null,
      "outputs": [
        {
          "output_type": "display_data",
          "data": {
            "text/plain": [
              "<Figure size 1200x400 with 2 Axes>"
            ],
            "image/png": "[encoded data removed]"
          },
          "metadata": {}
        }
      ]
    },
    {
      "cell_type": "code",
      "source": [
        "# Predict probabilities for test set\n",
        "yhat_probs = model.predict(X_test, verbose=0)\n",
        "print(yhat_probs)\n",
        "\n",
        "# Predict crisp classes for test set\n",
        "yhat_classes = (yhat_probs > 0.5).astype(int)  # Convierte probabilidades en clases crujientes\n",
        "print(yhat_classes)\n"
      ],
      "metadata": {
        "colab": {
          "base_uri": "https://localhost:8080/"
        },
        "id": "LO4CiTP-ML1i",
        "outputId": "6a583d8d-8537-4db8-bde1-b15a2bd1e121"
      },
      "execution_count": null,
      "outputs": [
        {
          "output_type": "stream",
          "name": "stdout",
          "text": [
            "[[8.38247331e-07 6.61368915e-07 9.99998391e-01]\n",
            " [2.69733710e-06 2.51902338e-06 9.99994695e-01]\n",
            " [7.88828572e-07 6.71985276e-07 9.99998510e-01]\n",
            " [2.42019439e-07 2.06538118e-07 9.99999464e-01]\n",
            " [6.27623422e-07 4.56932014e-07 9.99998868e-01]\n",
            " [1.03041195e-07 8.51669455e-08 9.99999702e-01]\n",
            " [2.46804859e-02 3.51280004e-01 6.24039471e-01]\n",
            " [2.00820750e-07 1.84254333e-07 9.99999583e-01]\n",
            " [9.24857341e-06 1.13407023e-05 9.99979317e-01]\n",
            " [1.29281875e-06 9.25327299e-07 9.99997675e-01]\n",
            " [7.87576118e-06 9.48216893e-06 9.99982536e-01]\n",
            " [1.35143719e-05 9.99962628e-01 2.38251705e-05]\n",
            " [1.94680229e-06 1.77334095e-06 9.99996245e-01]\n",
            " [3.77035263e-04 2.21860572e-03 9.97404337e-01]\n",
            " [5.86571275e-07 5.68790085e-07 9.99998748e-01]\n",
            " [2.46778512e-07 2.04853052e-07 9.99999464e-01]\n",
            " [1.62887693e-06 1.49349887e-06 9.99996841e-01]\n",
            " [9.60082907e-05 4.42043063e-04 9.99462008e-01]\n",
            " [4.56955459e-05 1.34214613e-04 9.99820232e-01]\n",
            " [9.21714957e-07 8.11225959e-07 9.99998152e-01]\n",
            " [8.81493324e-05 1.84680233e-04 9.99727249e-01]\n",
            " [1.54778136e-05 2.03583622e-05 9.99964058e-01]\n",
            " [1.32382745e-02 8.71291041e-01 1.15470685e-01]\n",
            " [1.88467622e-01 6.90112233e-01 1.21420175e-01]\n",
            " [2.53138751e-06 2.58030809e-06 9.99994814e-01]\n",
            " [7.15125566e-07 5.02522653e-07 9.99998748e-01]\n",
            " [5.49792498e-03 7.68495858e-01 2.26006106e-01]\n",
            " [1.04064888e-07 7.77976794e-08 9.99999702e-01]\n",
            " [1.75626576e-02 8.59622955e-01 1.22814350e-01]\n",
            " [2.33532319e-06 2.22340509e-06 9.99995410e-01]\n",
            " [3.22880737e-06 3.78429831e-06 9.99992907e-01]\n",
            " [8.31355355e-05 9.99899209e-01 1.76589638e-05]\n",
            " [1.39227509e-03 4.04945284e-01 5.93662441e-01]\n",
            " [1.19536463e-03 1.59018021e-02 9.82902884e-01]\n",
            " [1.20721893e-06 1.36993083e-06 9.99997318e-01]\n",
            " [3.72167840e-03 6.19774461e-01 3.76503885e-01]\n",
            " [5.99087123e-03 6.50789678e-01 3.43219310e-01]\n",
            " [9.82439697e-01 1.59773566e-02 1.58289087e-03]\n",
            " [5.90147920e-06 1.27544181e-05 9.99981344e-01]\n",
            " [3.52614552e-01 2.20746934e-01 4.26638484e-01]\n",
            " [6.44666361e-05 5.72518969e-04 9.99363005e-01]\n",
            " [4.20818925e-02 8.41077209e-01 1.16840899e-01]\n",
            " [1.15623880e-06 1.18023843e-06 9.99997556e-01]\n",
            " [1.52847144e-06 1.65174197e-06 9.99996722e-01]\n",
            " [2.42375609e-05 1.08175605e-04 9.99867678e-01]\n",
            " [7.01279134e-07 4.80447852e-07 9.99998748e-01]\n",
            " [2.63837842e-06 3.60004719e-06 9.99993742e-01]\n",
            " [4.80813760e-05 2.82064371e-04 9.99669909e-01]\n",
            " [1.38537837e-06 1.47892752e-06 9.99997079e-01]\n",
            " [1.97760492e-05 4.46082413e-05 9.99935567e-01]\n",
            " [1.97275222e-06 2.00881459e-06 9.99996006e-01]\n",
            " [5.04759722e-04 1.26216244e-02 9.86873567e-01]\n",
            " [3.03372246e-07 2.60208168e-07 9.99999344e-01]\n",
            " [4.68430728e-01 4.89178658e-01 4.23906147e-02]\n",
            " [4.19298703e-06 4.23562551e-06 9.99991477e-01]\n",
            " [4.90705424e-04 3.73335509e-03 9.95775998e-01]\n",
            " [9.61321685e-03 9.89919543e-01 4.67196980e-04]\n",
            " [1.64780158e-05 2.77066592e-05 9.99955714e-01]\n",
            " [1.48675622e-06 1.40327768e-06 9.99997079e-01]\n",
            " [1.30226663e-05 1.62631422e-05 9.99970615e-01]\n",
            " [3.56047130e-05 7.11478278e-05 9.99893129e-01]\n",
            " [4.49947256e-04 9.99029815e-01 5.20224101e-04]\n",
            " [7.11017128e-06 8.55188682e-06 9.99984324e-01]\n",
            " [7.52136020e-06 1.02027834e-05 9.99982178e-01]\n",
            " [7.76562616e-02 9.21524525e-01 8.19268753e-04]\n",
            " [1.13559174e-04 9.71545873e-04 9.98914897e-01]\n",
            " [1.00300463e-06 1.70381713e-06 9.99997199e-01]\n",
            " [2.83272500e-04 4.41881974e-04 9.99274969e-01]\n",
            " [2.21774040e-04 9.99571145e-01 2.07054502e-04]\n",
            " [5.56081766e-04 9.96851504e-01 2.59249378e-03]\n",
            " [4.71249782e-03 8.14769387e-01 1.80518046e-01]\n",
            " [5.87245211e-07 4.63386414e-07 9.99998868e-01]\n",
            " [9.56671920e-06 2.26404609e-05 9.99967754e-01]\n",
            " [9.58595774e-06 1.44706091e-05 9.99975860e-01]\n",
            " [6.29703345e-06 7.51798325e-06 9.99986112e-01]\n",
            " [5.37317305e-07 4.61209822e-07 9.99998987e-01]\n",
            " [4.01978241e-06 4.32791148e-06 9.99991596e-01]\n",
            " [1.47435203e-05 3.06392358e-05 9.99954522e-01]\n",
            " [4.69158209e-07 4.73441588e-07 9.99998987e-01]\n",
            " [3.87354532e-07 3.03128132e-07 9.99999225e-01]\n",
            " [5.76044549e-05 9.99713659e-01 2.28811827e-04]\n",
            " [1.93731148e-06 2.13691192e-06 9.99995887e-01]\n",
            " [5.22550603e-04 1.71244959e-03 9.97764885e-01]\n",
            " [3.90290239e-07 2.69524975e-07 9.99999225e-01]\n",
            " [2.54478255e-06 2.54116412e-06 9.99994814e-01]\n",
            " [1.74265188e-05 9.99969661e-01 1.29120599e-05]\n",
            " [1.26540147e-06 1.61090009e-06 9.99997079e-01]\n",
            " [7.23274024e-06 7.48724642e-06 9.99985278e-01]\n",
            " [1.82005169e-05 2.27122127e-05 9.99959052e-01]\n",
            " [2.40481222e-06 2.27678697e-06 9.99995291e-01]\n",
            " [7.20250682e-07 4.45709077e-07 9.99998748e-01]\n",
            " [5.48069465e-07 7.45117802e-07 9.99998629e-01]\n",
            " [5.04037985e-07 4.48408827e-07 9.99998987e-01]\n",
            " [4.44694393e-07 5.76235209e-07 9.99998868e-01]\n",
            " [8.72855367e-07 7.79018364e-07 9.99998271e-01]\n",
            " [1.06179141e-06 1.50934022e-06 9.99997318e-01]\n",
            " [6.77931837e-07 5.11928931e-07 9.99998748e-01]\n",
            " [8.48775642e-07 7.17141461e-07 9.99998391e-01]\n",
            " [1.03205945e-02 8.73986363e-01 1.15693033e-01]\n",
            " [6.43136576e-02 9.34438169e-01 1.24814908e-03]\n",
            " [1.14233058e-06 1.04761489e-06 9.99997795e-01]\n",
            " [9.63248432e-01 3.43753174e-02 2.37628468e-03]\n",
            " [1.93344499e-03 9.95029688e-01 3.03687062e-03]\n",
            " [1.63952413e-03 6.91608369e-01 3.06752115e-01]\n",
            " [4.79992821e-07 3.63956389e-07 9.99999106e-01]\n",
            " [9.87623930e-01 1.13873864e-02 9.88721265e-04]\n",
            " [2.47801381e-06 2.02355704e-06 9.99995410e-01]\n",
            " [5.76268292e-07 4.36850030e-07 9.99998987e-01]\n",
            " [3.01388332e-06 3.57798285e-06 9.99993384e-01]\n",
            " [3.15929327e-07 2.69388806e-07 9.99999344e-01]\n",
            " [9.27805445e-07 8.34471223e-07 9.99998152e-01]\n",
            " [4.87209945e-07 4.78406037e-07 9.99998987e-01]\n",
            " [2.08621395e-06 3.07587061e-06 9.99994814e-01]\n",
            " [1.99540555e-01 4.56493706e-01 3.43965739e-01]\n",
            " [2.75344332e-03 9.95810330e-01 1.43612572e-03]\n",
            " [9.49992511e-07 7.87569945e-07 9.99998152e-01]\n",
            " [4.07678300e-07 3.31901617e-07 9.99999225e-01]\n",
            " [1.72367729e-02 1.04718350e-01 8.78044844e-01]\n",
            " [1.15783238e-04 9.99214947e-01 6.69286994e-04]\n",
            " [7.25968566e-04 1.47050982e-02 9.84568834e-01]\n",
            " [3.66996915e-06 3.66967879e-06 9.99992549e-01]\n",
            " [1.28738742e-04 9.99214590e-01 6.56721357e-04]\n",
            " [1.20754351e-07 1.02954367e-07 9.99999702e-01]\n",
            " [6.30375496e-07 5.05175024e-07 9.99998748e-01]\n",
            " [7.51711184e-07 6.29051783e-07 9.99998510e-01]\n",
            " [1.19868200e-03 9.97880638e-01 9.20573715e-04]\n",
            " [2.50302710e-05 9.99827385e-01 1.47632192e-04]\n",
            " [3.21919993e-06 9.99994099e-01 2.62102253e-06]\n",
            " [5.97181361e-06 6.78785409e-06 9.99987185e-01]\n",
            " [1.36881799e-05 2.00799714e-05 9.99966204e-01]\n",
            " [2.74562723e-07 2.21532346e-07 9.99999464e-01]\n",
            " [1.39077724e-06 1.13146393e-06 9.99997437e-01]\n",
            " [1.49798088e-05 4.29431093e-05 9.99942005e-01]\n",
            " [4.21598116e-07 3.04203695e-07 9.99999225e-01]\n",
            " [8.81664164e-07 6.80470691e-07 9.99998391e-01]\n",
            " [2.85962551e-06 2.60589718e-06 9.99994457e-01]\n",
            " [9.23138335e-02 9.07139182e-01 5.46990079e-04]\n",
            " [9.99871731e-01 7.86413002e-05 4.95327913e-05]\n",
            " [6.87703221e-07 6.38480458e-07 9.99998629e-01]\n",
            " [6.98770677e-08 4.61496406e-08 9.99999821e-01]\n",
            " [3.02530010e-04 9.93168950e-01 6.52843807e-03]\n",
            " [5.04294746e-07 4.35832987e-07 9.99998987e-01]\n",
            " [3.94914832e-06 6.19669891e-06 9.99989808e-01]\n",
            " [6.63698017e-07 7.83577093e-07 9.99998510e-01]\n",
            " [4.10735794e-07 4.99579244e-07 9.99998987e-01]\n",
            " [1.29548064e-03 5.01415459e-03 9.93690312e-01]\n",
            " [7.26035377e-03 4.13949996e-01 5.78789592e-01]\n",
            " [5.82664256e-07 3.83417103e-07 9.99998987e-01]\n",
            " [5.04988930e-06 1.32046107e-05 9.99981701e-01]\n",
            " [4.54987543e-07 3.34416029e-07 9.99999106e-01]\n",
            " [1.38588867e-03 7.60023668e-02 9.22611713e-01]\n",
            " [1.84316541e-05 9.99975741e-01 5.71393457e-06]\n",
            " [8.46064950e-07 8.48675199e-07 9.99998271e-01]\n",
            " [5.51363955e-05 9.77565287e-05 9.99847174e-01]\n",
            " [4.19209851e-03 7.75407434e-01 2.20400423e-01]\n",
            " [1.03533166e-05 9.99987662e-01 1.95560574e-06]\n",
            " [9.85250995e-03 6.88332498e-01 3.01815063e-01]\n",
            " [5.31870686e-03 9.92155910e-01 2.52537243e-03]\n",
            " [1.02424247e-06 7.93827212e-07 9.99998152e-01]\n",
            " [4.94692242e-03 9.94912565e-01 1.40512435e-04]\n",
            " [1.54617098e-07 1.09474634e-07 9.99999702e-01]\n",
            " [2.18503101e-06 1.91175218e-06 9.99995887e-01]\n",
            " [4.86131785e-06 1.17991603e-05 9.99983251e-01]\n",
            " [2.87184344e-06 3.86476086e-06 9.99993145e-01]\n",
            " [7.62700495e-07 5.67287316e-07 9.99998629e-01]\n",
            " [4.34535432e-05 9.99917328e-01 3.90911300e-05]\n",
            " [9.98728931e-01 1.08947512e-03 1.81591298e-04]\n",
            " [1.18144026e-05 2.80433269e-05 9.99960124e-01]\n",
            " [4.38227616e-02 6.12991631e-01 3.43185604e-01]\n",
            " [3.73802345e-06 4.31877970e-06 9.99991834e-01]\n",
            " [2.04228424e-03 9.97932255e-01 2.54280203e-05]\n",
            " [2.36745094e-04 6.29422069e-03 9.93469059e-01]\n",
            " [1.14638227e-04 9.98680234e-01 1.20515749e-03]\n",
            " [1.07233158e-04 9.99869108e-01 2.36538108e-05]\n",
            " [2.64042569e-03 1.29042752e-02 9.84455287e-01]\n",
            " [4.12697489e-07 4.58577915e-07 9.99999106e-01]\n",
            " [6.39485791e-07 7.66967332e-07 9.99998510e-01]\n",
            " [1.34889808e-06 1.15420278e-06 9.99997437e-01]\n",
            " [1.11492409e-06 9.65101663e-07 9.99997914e-01]\n",
            " [6.33181036e-02 8.74095708e-02 8.49272311e-01]\n",
            " [1.73873147e-07 1.53178902e-07 9.99999583e-01]\n",
            " [9.67643609e-06 1.36813142e-05 9.99976575e-01]\n",
            " [1.04211165e-06 8.61318142e-07 9.99998033e-01]\n",
            " [2.40727750e-05 6.45704422e-05 9.99911249e-01]\n",
            " [7.82012503e-05 9.99918401e-01 3.30794933e-06]\n",
            " [9.09372773e-07 6.65558844e-07 9.99998391e-01]\n",
            " [3.07357877e-05 4.88317310e-05 9.99920309e-01]\n",
            " [2.75087996e-06 3.79457811e-06 9.99993384e-01]\n",
            " [5.26491795e-06 5.40684368e-06 9.99989212e-01]\n",
            " [2.43704766e-02 9.70031738e-01 5.59775298e-03]\n",
            " [1.10886060e-06 1.05396725e-06 9.99997795e-01]\n",
            " [6.87884912e-02 5.83881080e-01 3.47330391e-01]\n",
            " [1.51006243e-05 4.17726078e-05 9.99943078e-01]\n",
            " [2.86188595e-07 3.43278970e-07 9.99999344e-01]\n",
            " [1.45893171e-06 1.36815231e-06 9.99997079e-01]\n",
            " [2.13441745e-05 5.06636788e-05 9.99927938e-01]\n",
            " [6.65000603e-02 9.23519790e-01 9.98019334e-03]\n",
            " [1.10999713e-06 8.86352780e-07 9.99997914e-01]\n",
            " [2.87393737e-03 9.97085452e-01 4.04850507e-05]\n",
            " [2.14555735e-06 2.09244058e-06 9.99995649e-01]\n",
            " [9.59782302e-03 4.81185317e-01 5.09216845e-01]\n",
            " [1.06952393e-06 9.73459805e-07 9.99997914e-01]\n",
            " [2.94021884e-04 1.94796850e-03 9.97758031e-01]\n",
            " [4.43993413e-05 9.99236822e-01 7.18744064e-04]\n",
            " [6.46171713e-07 6.42566988e-07 9.99998629e-01]\n",
            " [3.91356963e-07 2.92083712e-07 9.99999225e-01]\n",
            " [5.10776648e-03 9.94741738e-01 1.50374646e-04]\n",
            " [2.56002545e-06 2.46029072e-06 9.99994934e-01]\n",
            " [1.44023068e-06 1.24458643e-06 9.99997199e-01]\n",
            " [3.99737047e-07 2.97649763e-07 9.99999225e-01]\n",
            " [8.40313369e-05 9.99866962e-01 4.90939674e-05]\n",
            " [2.11354509e-05 2.27368946e-05 9.99956071e-01]\n",
            " [1.42114967e-01 8.53473485e-01 4.41147573e-03]\n",
            " [1.24071516e-06 1.16676745e-06 9.99997556e-01]\n",
            " [3.55633034e-04 1.55682424e-02 9.84076023e-01]\n",
            " [1.56785274e-04 6.18188875e-04 9.99225080e-01]\n",
            " [2.59113705e-07 2.28465169e-07 9.99999523e-01]\n",
            " [9.31435716e-06 1.14598934e-05 9.99979258e-01]\n",
            " [3.24451306e-04 2.91499379e-03 9.96760547e-01]\n",
            " [2.34618527e-03 9.96448636e-01 1.20517402e-03]\n",
            " [1.00181151e-05 2.59066983e-05 9.99964118e-01]\n",
            " [3.11386064e-02 9.03212905e-01 6.56484738e-02]]\n",
            "[[0 0 1]\n",
            " [0 0 1]\n",
            " [0 0 1]\n",
            " [0 0 1]\n",
            " [0 0 1]\n",
            " [0 0 1]\n",
            " [0 0 1]\n",
            " [0 0 1]\n",
            " [0 0 1]\n",
            " [0 0 1]\n",
            " [0 0 1]\n",
            " [0 1 0]\n",
            " [0 0 1]\n",
            " [0 0 1]\n",
            " [0 0 1]\n",
            " [0 0 1]\n",
            " [0 0 1]\n",
            " [0 0 1]\n",
            " [0 0 1]\n",
            " [0 0 1]\n",
            " [0 0 1]\n",
            " [0 0 1]\n",
            " [0 1 0]\n",
            " [0 1 0]\n",
            " [0 0 1]\n",
            " [0 0 1]\n",
            " [0 1 0]\n",
            " [0 0 1]\n",
            " [0 1 0]\n",
            " [0 0 1]\n",
            " [0 0 1]\n",
            " [0 1 0]\n",
            " [0 0 1]\n",
            " [0 0 1]\n",
            " [0 0 1]\n",
            " [0 1 0]\n",
            " [0 1 0]\n",
            " [1 0 0]\n",
            " [0 0 1]\n",
            " [0 0 0]\n",
            " [0 0 1]\n",
            " [0 1 0]\n",
            " [0 0 1]\n",
            " [0 0 1]\n",
            " [0 0 1]\n",
            " [0 0 1]\n",
            " [0 0 1]\n",
            " [0 0 1]\n",
            " [0 0 1]\n",
            " [0 0 1]\n",
            " [0 0 1]\n",
            " [0 0 1]\n",
            " [0 0 1]\n",
            " [0 0 0]\n",
            " [0 0 1]\n",
            " [0 0 1]\n",
            " [0 1 0]\n",
            " [0 0 1]\n",
            " [0 0 1]\n",
            " [0 0 1]\n",
            " [0 0 1]\n",
            " [0 1 0]\n",
            " [0 0 1]\n",
            " [0 0 1]\n",
            " [0 1 0]\n",
            " [0 0 1]\n",
            " [0 0 1]\n",
            " [0 0 1]\n",
            " [0 1 0]\n",
            " [0 1 0]\n",
            " [0 1 0]\n",
            " [0 0 1]\n",
            " [0 0 1]\n",
            " [0 0 1]\n",
            " [0 0 1]\n",
            " [0 0 1]\n",
            " [0 0 1]\n",
            " [0 0 1]\n",
            " [0 0 1]\n",
            " [0 0 1]\n",
            " [0 1 0]\n",
            " [0 0 1]\n",
            " [0 0 1]\n",
            " [0 0 1]\n",
            " [0 0 1]\n",
            " [0 1 0]\n",
            " [0 0 1]\n",
            " [0 0 1]\n",
            " [0 0 1]\n",
            " [0 0 1]\n",
            " [0 0 1]\n",
            " [0 0 1]\n",
            " [0 0 1]\n",
            " [0 0 1]\n",
            " [0 0 1]\n",
            " [0 0 1]\n",
            " [0 0 1]\n",
            " [0 0 1]\n",
            " [0 1 0]\n",
            " [0 1 0]\n",
            " [0 0 1]\n",
            " [1 0 0]\n",
            " [0 1 0]\n",
            " [0 1 0]\n",
            " [0 0 1]\n",
            " [1 0 0]\n",
            " [0 0 1]\n",
            " [0 0 1]\n",
            " [0 0 1]\n",
            " [0 0 1]\n",
            " [0 0 1]\n",
            " [0 0 1]\n",
            " [0 0 1]\n",
            " [0 0 0]\n",
            " [0 1 0]\n",
            " [0 0 1]\n",
            " [0 0 1]\n",
            " [0 0 1]\n",
            " [0 1 0]\n",
            " [0 0 1]\n",
            " [0 0 1]\n",
            " [0 1 0]\n",
            " [0 0 1]\n",
            " [0 0 1]\n",
            " [0 0 1]\n",
            " [0 1 0]\n",
            " [0 1 0]\n",
            " [0 1 0]\n",
            " [0 0 1]\n",
            " [0 0 1]\n",
            " [0 0 1]\n",
            " [0 0 1]\n",
            " [0 0 1]\n",
            " [0 0 1]\n",
            " [0 0 1]\n",
            " [0 0 1]\n",
            " [0 1 0]\n",
            " [1 0 0]\n",
            " [0 0 1]\n",
            " [0 0 1]\n",
            " [0 1 0]\n",
            " [0 0 1]\n",
            " [0 0 1]\n",
            " [0 0 1]\n",
            " [0 0 1]\n",
            " [0 0 1]\n",
            " [0 0 1]\n",
            " [0 0 1]\n",
            " [0 0 1]\n",
            " [0 0 1]\n",
            " [0 0 1]\n",
            " [0 1 0]\n",
            " [0 0 1]\n",
            " [0 0 1]\n",
            " [0 1 0]\n",
            " [0 1 0]\n",
            " [0 1 0]\n",
            " [0 1 0]\n",
            " [0 0 1]\n",
            " [0 1 0]\n",
            " [0 0 1]\n",
            " [0 0 1]\n",
            " [0 0 1]\n",
            " [0 0 1]\n",
            " [0 0 1]\n",
            " [0 1 0]\n",
            " [1 0 0]\n",
            " [0 0 1]\n",
            " [0 1 0]\n",
            " [0 0 1]\n",
            " [0 1 0]\n",
            " [0 0 1]\n",
            " [0 1 0]\n",
            " [0 1 0]\n",
            " [0 0 1]\n",
            " [0 0 1]\n",
            " [0 0 1]\n",
            " [0 0 1]\n",
            " [0 0 1]\n",
            " [0 0 1]\n",
            " [0 0 1]\n",
            " [0 0 1]\n",
            " [0 0 1]\n",
            " [0 0 1]\n",
            " [0 1 0]\n",
            " [0 0 1]\n",
            " [0 0 1]\n",
            " [0 0 1]\n",
            " [0 0 1]\n",
            " [0 1 0]\n",
            " [0 0 1]\n",
            " [0 1 0]\n",
            " [0 0 1]\n",
            " [0 0 1]\n",
            " [0 0 1]\n",
            " [0 0 1]\n",
            " [0 1 0]\n",
            " [0 0 1]\n",
            " [0 1 0]\n",
            " [0 0 1]\n",
            " [0 0 1]\n",
            " [0 0 1]\n",
            " [0 0 1]\n",
            " [0 1 0]\n",
            " [0 0 1]\n",
            " [0 0 1]\n",
            " [0 1 0]\n",
            " [0 0 1]\n",
            " [0 0 1]\n",
            " [0 0 1]\n",
            " [0 1 0]\n",
            " [0 0 1]\n",
            " [0 1 0]\n",
            " [0 0 1]\n",
            " [0 0 1]\n",
            " [0 0 1]\n",
            " [0 0 1]\n",
            " [0 0 1]\n",
            " [0 0 1]\n",
            " [0 1 0]\n",
            " [0 0 1]\n",
            " [0 1 0]]\n"
          ]
        }
      ]
    },
    {
      "cell_type": "code",
      "source": [
        "import numpy as np\n",
        "rounded_labels=np.argmax(Y_test, axis=1)\n",
        "rounded_labels"
      ],
      "metadata": {
        "id": "emhi0Aqh_mNl",
        "colab": {
          "base_uri": "https://localhost:8080/"
        },
        "outputId": "bd22c7c0-5b8a-41d3-b1bb-4829de7ef61a"
      },
      "execution_count": null,
      "outputs": [
        {
          "output_type": "execute_result",
          "data": {
            "text/plain": [
              "array([2, 2, 2, 2, 2, 2, 0, 2, 2, 2, 2, 1, 2, 2, 1, 2, 2, 2, 2, 2, 2, 2,\n",
              "       2, 1, 2, 2, 2, 2, 2, 2, 2, 0, 1, 0, 2, 1, 1, 0, 2, 1, 2, 1, 2, 2,\n",
              "       2, 2, 1, 2, 2, 2, 2, 2, 2, 0, 2, 2, 0, 2, 2, 2, 2, 2, 2, 2, 1, 2,\n",
              "       2, 2, 1, 1, 2, 2, 2, 2, 2, 2, 2, 1, 2, 2, 2, 2, 1, 2, 2, 1, 2, 2,\n",
              "       2, 2, 2, 2, 2, 2, 2, 2, 2, 2, 2, 2, 2, 1, 2, 1, 2, 2, 2, 2, 2, 2,\n",
              "       2, 2, 2, 2, 2, 2, 2, 2, 2, 2, 2, 2, 2, 2, 2, 1, 1, 1, 2, 0, 2, 2,\n",
              "       2, 2, 2, 2, 1, 0, 2, 2, 1, 2, 2, 2, 2, 2, 2, 2, 2, 2, 2, 0, 2, 1,\n",
              "       2, 0, 1, 1, 2, 0, 2, 2, 2, 2, 2, 2, 1, 2, 1, 2, 1, 2, 1, 2, 2, 2,\n",
              "       2, 2, 2, 1, 2, 2, 2, 2, 0, 2, 2, 2, 2, 2, 2, 2, 1, 2, 2, 1, 1, 2,\n",
              "       0, 2, 0, 2, 2, 2, 2, 2, 0, 2, 2, 2, 1, 2, 0, 2, 2, 2, 2, 2, 0, 2,\n",
              "       2, 2])"
            ]
          },
          "metadata": {},
          "execution_count": 36
        }
      ]
    },
    {
      "cell_type": "code",
      "source": [
        "from sklearn.metrics import confusion_matrix\n",
        "import seaborn as sns\n",
        "import matplotlib.pyplot as plt\n",
        "\n",
        "# Calcular la matriz de confusión\n",
        "confusion_mtx = confusion_matrix(Y_test.argmax(axis=1), yhat_classes.argmax(axis=1))\n",
        "\n",
        "# Crear un mapa de calor para visualizar la matriz de confusión\n",
        "plt.figure(figsize=(8, 6))\n",
        "sns.heatmap(confusion_mtx, annot=True, fmt='d', cmap='Blues',\n",
        "            xticklabels=['Clase 0', 'Clase 1', 'Clase 2'],\n",
        "            yticklabels=['Clase 0', 'Clase 1', 'Clase 2'])\n",
        "plt.xlabel('Predicciones')\n",
        "plt.ylabel('Valores verdaderos')\n",
        "plt.title('Matriz de Confusión')\n",
        "plt.show()\n"
      ],
      "metadata": {
        "colab": {
          "base_uri": "https://localhost:8080/",
          "height": 564
        },
        "id": "5sIdDGLsMdoP",
        "outputId": "8fe6c310-4dd7-4f8b-9f5a-0de4c0710298"
      },
      "execution_count": null,
      "outputs": [
        {
          "output_type": "display_data",
          "data": {
            "text/plain": [
              "<Figure size 800x600 with 2 Axes>"
            ],
            "image/png": "[encoded data removed]"
          },
          "metadata": {}
        }
      ]
    },
    {
      "cell_type": "code",
      "source": [
        "model.save('Mymodel.h5')"
      ],
      "metadata": {
        "id": "IjDLdNjN_1IE",
        "colab": {
          "base_uri": "https://localhost:8080/"
        },
        "outputId": "f488ad9b-00f3-4216-c637-affe339aa1fc"
      },
      "execution_count": null,
      "outputs": [
        {
          "output_type": "stream",
          "name": "stderr",
          "text": [
            "/usr/local/lib/python3.10/dist-packages/keras/src/engine/training.py:3079: UserWarning: You are saving your model as an HDF5 file via `model.save()`. This file format is considered legacy. We recommend using instead the native Keras format, e.g. `model.save('my_model.keras')`.\n",
            "  saving_api.save_model(\n"
          ]
        }
      ]
    },
    {
      "cell_type": "code",
      "source": [
        "message = ['La aplicación es de dificil uso y pero es amigable']\n",
        "seq = tokenizer.texts_to_sequences(message)\n",
        "\n",
        "padded = pad_sequences(seq, maxlen=X.shape[1], dtype='int32', value=0)\n",
        "\n",
        "pred = model.predict(padded)\n",
        "\n",
        "labels = ['0','1','2']\n",
        "print(pred, labels[np.argmax(pred)])"
      ],
      "metadata": {
        "id": "YuCuqEz9_8h8",
        "colab": {
          "base_uri": "https://localhost:8080/"
        },
        "outputId": "95a59ed1-384a-485c-f531-0624fa689b7d"
      },
      "execution_count": null,
      "outputs": [
        {
          "output_type": "stream",
          "name": "stdout",
          "text": [
            "1/1 [==============================] - 0s 40ms/step\n",
            "[[0.04939974 0.8042601  0.14634022]] 1\n"
          ]
        }
      ]
    },
    {
      "cell_type": "code",
      "source": [
        "message = ['La app es muy lenta y de facil acceso']\n",
        "seq = tokenizer.texts_to_sequences(message)\n",
        "\n",
        "padded = pad_sequences(seq, maxlen=X.shape[1], dtype='int32', value=0)\n",
        "\n",
        "pred = model.predict(padded)\n",
        "\n",
        "labels = ['0','1','2']\n",
        "print(pred, labels[np.argmax(pred)])"
      ],
      "metadata": {
        "id": "UvEupVa0_8k_",
        "colab": {
          "base_uri": "https://localhost:8080/"
        },
        "outputId": "958477d5-f67c-4b5d-bded-ff4137a5f760"
      },
      "execution_count": null,
      "outputs": [
        {
          "output_type": "stream",
          "name": "stdout",
          "text": [
            "1/1 [==============================] - 0s 37ms/step\n",
            "[[0.10059201 0.64769393 0.2517141 ]] 1\n"
          ]
        }
      ]
    }
  ]
}